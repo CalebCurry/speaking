{
 "cells": [
  {
   "cell_type": "markdown",
   "metadata": {},
   "source": [
    "## Table of contents\n",
    "1. [Setup Access to all data sources](#setup-access)<br>\n",
    "2. [Data Exploration](#data-exploration)<br>\n",
    "3. [Prepare for creation of Machine Learning Models](#start-machine-learning)<br>\n",
    "4. [Machine Learning Model Creation](#build-model)<br>\n",
    "5. [Saving and Using Machine Learning Model ](#save-model)<br>\n",
    "6. [Deploy Models ](#deploy-model)<br>\n",
    "7. [Make Prediction ](#make-prediction)<br>"
   ]
  },
  {
   "cell_type": "markdown",
   "metadata": {},
   "source": [
    "## IBM Db2 Hybrid Data Management Machine Learning & Model Deployment example using Python API \n",
    "\n",
    "IBM Hybrid Data Management is a complete platform for all your data needs. In this notebooks we show a fully integrated example with data sources across Db2 Common SQL Engine Sources\n",
    "\n",
    "When you finish this demo, you will know how to use Hybrid Data Management for Machine Learning and Model Deployment"
   ]
  },
  {
   "cell_type": "markdown",
   "metadata": {
    "collapsed": true
   },
   "source": [
    "Initial Load of some libraries"
   ]
  },
  {
   "cell_type": "code",
   "execution_count": 2,
   "metadata": {
    "collapsed": false
   },
   "outputs": [],
   "source": [
    "from eventstore.oltp import EventContext\n",
    "from eventstore.oltp.row_generator import generate_tele\n",
    "from eventstore.catalog import TableSchema, IndexSpecification, SortSpecification, ColumnOrder\n",
    "from pyspark.sql.types import *\n",
    "from eventstore.common import ConfigurationReader\n",
    "from IPython.display import display, HTML"
   ]
  },
  {
   "cell_type": "markdown",
   "metadata": {},
   "source": [
    "\n"
   ]
  },
  {
   "cell_type": "markdown",
   "metadata": {},
   "source": [
    "<a id=\"setup-access\"></a>\n",
    "## 1. Setup access to all data Sources"
   ]
  },
  {
   "cell_type": "code",
   "execution_count": 46,
   "metadata": {
    "collapsed": false
   },
   "outputs": [
    {
     "name": "stdout",
     "output_type": "stream",
     "text": [
      "Requirement already satisfied: wordcloud in /opt/conda/lib/python2.7/site-packages\n",
      "Requirement already satisfied: numpy>=1.6.1 in /opt/conda/lib/python2.7/site-packages (from wordcloud)\n",
      "Requirement already satisfied: matplotlib in /opt/conda/lib/python2.7/site-packages (from wordcloud)\n",
      "Requirement already satisfied: pillow in /opt/conda/lib/python2.7/site-packages (from wordcloud)\n",
      "Requirement already satisfied: six>=1.10 in /opt/conda/lib/python2.7/site-packages (from matplotlib->wordcloud)\n",
      "Requirement already satisfied: python-dateutil in /opt/conda/lib/python2.7/site-packages (from matplotlib->wordcloud)\n",
      "Requirement already satisfied: functools32 in /opt/conda/lib/python2.7/site-packages (from matplotlib->wordcloud)\n",
      "Requirement already satisfied: subprocess32 in /opt/conda/lib/python2.7/site-packages (from matplotlib->wordcloud)\n",
      "Requirement already satisfied: pytz in /opt/conda/lib/python2.7/site-packages (from matplotlib->wordcloud)\n",
      "Requirement already satisfied: cycler>=0.10 in /opt/conda/lib/python2.7/site-packages (from matplotlib->wordcloud)\n",
      "Requirement already satisfied: pyparsing!=2.0.4,!=2.1.2,!=2.1.6,>=1.5.6 in /opt/conda/lib/python2.7/site-packages (from matplotlib->wordcloud)\n",
      "Requirement already satisfied: olefile in /opt/conda/lib/python2.7/site-packages (from pillow->wordcloud)\n"
     ]
    }
   ],
   "source": [
    "!pip install wordcloud"
   ]
  },
  {
   "cell_type": "code",
   "execution_count": 47,
   "metadata": {
    "collapsed": true
   },
   "outputs": [],
   "source": [
    "credentials_1 = {\n",
    " \"jdbcurl\":\"jdbc:db2://1.1.1.1:1/\",\n",
    " \"username\":\"username",\n",
    " \"password\":\"password\"\n",
    "}"
   ]
  },
  {
   "cell_type": "code",
   "execution_count": 48,
   "metadata": {
    "collapsed": false
   },
   "outputs": [],
   "source": [
    "from pyspark.sql import SparkSession\n",
    "from eventstore.sql import EventSession\n",
    "\n",
    "sparkSession = SparkSession.builder.appName(\"Event Store ML in Python\").getOrCreate()\n",
    "eventSession = EventSession(sparkSession.sparkContext, \"CLICK\")"
   ]
  },
  {
   "cell_type": "code",
   "execution_count": 49,
   "metadata": {
    "collapsed": false
   },
   "outputs": [],
   "source": [
    "#load event store data\n",
    "clickStream = eventSession.load_event_table(\"clickStream\")\n",
    "clickStream.createOrReplaceTempView(\"clickStream\")\n",
    "eventSession.open_database()"
   ]
  },
  {
   "cell_type": "code",
   "execution_count": 50,
   "metadata": {
    "collapsed": false
   },
   "outputs": [],
   "source": [
    "#Load pii table \n",
    "piiTableDb2 = eventSession.read.jdbc(credentials_1[\"jdbcurl\"],\"TRAVEL.PIITABLE\",properties = {\"user\" : credentials_1[\"username\"], \"password\" : credentials_1[\"password\"],\"driver\" : \"com.ibm.db2.jcc.DB2Driver\"})\n",
    "piiTableDb2.createOrReplaceTempView(\"piiTableDb2\")\n",
    "#Load interests \n",
    "interestTableDb2 = eventSession.read.jdbc(credentials_1[\"jdbcurl\"],\"TRAVEL.interestTable\",properties = {\"user\" : credentials_1[\"username\"], \"password\" : credentials_1[\"password\"],\"driver\" : \"com.ibm.db2.jcc.DB2Driver\"})\n",
    "interestTableDb2.createOrReplaceTempView(\"interestTableDb2\")\n",
    "#Load purchase history\n",
    "purchaseTableDb2 = eventSession.read.jdbc(credentials_1[\"jdbcurl\"],\"TRAVEL.PURCHASETABLE\",properties = {\"user\" : credentials_1[\"username\"], \"password\" : credentials_1[\"password\"],\"driver\" : \"com.ibm.db2.jcc.DB2Driver\"})\n",
    "purchaseTableDb2.createOrReplaceTempView(\"purchaseTableDb2\")"
   ]
  },
  {
   "cell_type": "markdown",
   "metadata": {},
   "source": [
    "<a id=\"data-exploration\"></a>\n",
    "## 2. Start Exploring Our Data"
   ]
  },
  {
   "cell_type": "markdown",
   "metadata": {},
   "source": [
    "The Pii table has our personally identifiable information for our users. This table needs to be stored in Db2 employing its various security features such as Native Encryption, and Label Based Access Control "
   ]
  },
  {
   "cell_type": "code",
   "execution_count": 9,
   "metadata": {
    "collapsed": false
   },
   "outputs": [
    {
     "data": {
      "text/html": [
       "<div>\n",
       "<style>\n",
       "    .dataframe thead tr:only-child th {\n",
       "        text-align: right;\n",
       "    }\n",
       "\n",
       "    .dataframe thead th {\n",
       "        text-align: left;\n",
       "    }\n",
       "\n",
       "    .dataframe tbody tr th {\n",
       "        vertical-align: top;\n",
       "    }\n",
       "</style>\n",
       "<table border=\"1\" class=\"dataframe\">\n",
       "  <thead>\n",
       "    <tr style=\"text-align: right;\">\n",
       "      <th></th>\n",
       "      <th>USERID</th>\n",
       "      <th>AGE</th>\n",
       "      <th>FIRSTNAME</th>\n",
       "      <th>LASTNAME</th>\n",
       "      <th>OCCUPATION</th>\n",
       "      <th>ACTIVITYSCORE</th>\n",
       "    </tr>\n",
       "  </thead>\n",
       "  <tbody>\n",
       "    <tr>\n",
       "      <th>480</th>\n",
       "      <td>480</td>\n",
       "      <td>22</td>\n",
       "      <td>David</td>\n",
       "      <td>Ryan</td>\n",
       "      <td>Student</td>\n",
       "      <td>0.598051</td>\n",
       "    </tr>\n",
       "    <tr>\n",
       "      <th>458</th>\n",
       "      <td>458</td>\n",
       "      <td>22</td>\n",
       "      <td>Ethan</td>\n",
       "      <td>Brown</td>\n",
       "      <td>Student</td>\n",
       "      <td>0.698973</td>\n",
       "    </tr>\n",
       "    <tr>\n",
       "      <th>530</th>\n",
       "      <td>530</td>\n",
       "      <td>22</td>\n",
       "      <td>Logan</td>\n",
       "      <td>Robinson</td>\n",
       "      <td>Student</td>\n",
       "      <td>0.663344</td>\n",
       "    </tr>\n",
       "    <tr>\n",
       "      <th>273</th>\n",
       "      <td>273</td>\n",
       "      <td>45</td>\n",
       "      <td>Ethan</td>\n",
       "      <td>Ryan</td>\n",
       "      <td>accountant</td>\n",
       "      <td>0.897284</td>\n",
       "    </tr>\n",
       "    <tr>\n",
       "      <th>9</th>\n",
       "      <td>9</td>\n",
       "      <td>45</td>\n",
       "      <td>Sophia</td>\n",
       "      <td>Wood</td>\n",
       "      <td>accountant</td>\n",
       "      <td>0.805055</td>\n",
       "    </tr>\n",
       "    <tr>\n",
       "      <th>30</th>\n",
       "      <td>30</td>\n",
       "      <td>45</td>\n",
       "      <td>Lucas</td>\n",
       "      <td>Allen</td>\n",
       "      <td>accountant</td>\n",
       "      <td>0.784697</td>\n",
       "    </tr>\n",
       "    <tr>\n",
       "      <th>499</th>\n",
       "      <td>499</td>\n",
       "      <td>22</td>\n",
       "      <td>Lucas</td>\n",
       "      <td>Fuller</td>\n",
       "      <td>Student</td>\n",
       "      <td>0.525336</td>\n",
       "    </tr>\n",
       "    <tr>\n",
       "      <th>851</th>\n",
       "      <td>851</td>\n",
       "      <td>62</td>\n",
       "      <td>Sam</td>\n",
       "      <td>Ryan</td>\n",
       "      <td>retired</td>\n",
       "      <td>0.708288</td>\n",
       "    </tr>\n",
       "    <tr>\n",
       "      <th>69</th>\n",
       "      <td>69</td>\n",
       "      <td>45</td>\n",
       "      <td>Sophia</td>\n",
       "      <td>Brown</td>\n",
       "      <td>accountant</td>\n",
       "      <td>0.806534</td>\n",
       "    </tr>\n",
       "    <tr>\n",
       "      <th>107</th>\n",
       "      <td>107</td>\n",
       "      <td>45</td>\n",
       "      <td>Sam</td>\n",
       "      <td>Kalmuk</td>\n",
       "      <td>accountant</td>\n",
       "      <td>0.616665</td>\n",
       "    </tr>\n",
       "  </tbody>\n",
       "</table>\n",
       "</div>"
      ],
      "text/plain": [
       "     USERID  AGE FIRSTNAME  LASTNAME  OCCUPATION  ACTIVITYSCORE\n",
       "480     480   22     David      Ryan     Student       0.598051\n",
       "458     458   22     Ethan     Brown     Student       0.698973\n",
       "530     530   22     Logan  Robinson     Student       0.663344\n",
       "273     273   45     Ethan      Ryan  accountant       0.897284\n",
       "9         9   45    Sophia      Wood  accountant       0.805055\n",
       "30       30   45     Lucas     Allen  accountant       0.784697\n",
       "499     499   22     Lucas    Fuller     Student       0.525336\n",
       "851     851   62       Sam      Ryan     retired       0.708288\n",
       "69       69   45    Sophia     Brown  accountant       0.806534\n",
       "107     107   45       Sam    Kalmuk  accountant       0.616665"
      ]
     },
     "execution_count": 9,
     "metadata": {},
     "output_type": "execute_result"
    }
   ],
   "source": [
    "piiTableDb2.limit(1000).toPandas().sample(10)"
   ]
  },
  {
   "cell_type": "markdown",
   "metadata": {},
   "source": [
    "Lets plot some of activity scores using matplotlib. we will pick a sample of about 50 rows to be able to graph easily"
   ]
  },
  {
   "cell_type": "code",
   "execution_count": 10,
   "metadata": {
    "collapsed": false
   },
   "outputs": [
    {
     "data": {
      "text/plain": [
       "[<matplotlib.lines.Line2D at 0x7fc96a994450>]"
      ]
     },
     "execution_count": 10,
     "metadata": {},
     "output_type": "execute_result"
    },
    {
     "data": {
      "image/png": "iVBORw0KGgoAAAANSUhEUgAAAX4AAAD8CAYAAABw1c+bAAAABHNCSVQICAgIfAhkiAAAAAlwSFlz\nAAALEgAACxIB0t1+/AAAIABJREFUeJzsvWuQJFl5JXhuvJ+ZWRmZlfXszGqooinoh6RWgzQIPTAB\njQYx0q52YDTSrsZWbO/Amv6sbJhZk62t6cfMGjY7JhsYYxnZDpqRFoQtYgSijUYgCRAPdVej7q6u\n7q7u6np1ZlW+H/EOD3e/+8P9unt4+OO6+3WPyEo/ZhidkREVHhkRnx8/3/nORyilSJEiRYoURweZ\nSR9AihQpUqRIFmnhT5EiRYojhrTwp0iRIsURQ1r4U6RIkeKIIS38KVKkSHHEkBb+FClSpDhiSAt/\nihQpUhwxpIU/RYoUKY4Y0sKfIkWKFEcMuUkfgBMWFhboysrKpA8jRYoUKQ4Nnn322W1K6SLPfaey\n8K+srODSpUuTPowUKVKkODQghNzivW8q9aRIkSLFEUNa+FOkSJHiiCEt/ClSpEhxxJAW/hQpUqQ4\nYuAq/ISQ9xNCrhJCrhFCPuHw+2OEkC8TQl4ghDxNCHk772NTpEiRIkWy8C38hJAsgE8DeBzARQAf\nIYRctN3tXwF4jlL6EIDfBPAHAR6bIkWKFCkSBA/jfwzANUrpdUqpBOALAD5ku89FAH8FAJTSVwCs\nEEKWOB+bIkWKFCkSBE/hPw3gDcvPq/ptVjwP4FcBgBDyGIBlAGc4H5sixT2D7fYAT16+O+nDSJHC\nE6Kau/8GwBwh5DkA/wuAvwegBPkHCCEfJYRcIoRc2traEnRYKVIkiy89u4p//ic/wkF3OOlDSZHC\nFTyTu2sAzlp+PqPfZoBS2gTwWwBACCEAbgC4DqDs91jLv/FZAJ8FgEcffTTdAJ/iUKIjaXxns9XH\nbCU/4aNJkcIZPIz/GQDnCSHnCCEFAB8G8BXrHQghc/rvAOB/BPAd/WTg+9gUKe4lDIZa4d9qDSZ8\nJCkopfjC07fT98IBvoWfUioD+DiApwC8DOCLlNIrhJAnCCFP6Hd7K4AXCSFXoTl4fsfrseJfRooU\n04H+kDH+tNhMGte3O/jEn13GV5+/M+lDmTpwhbRRSp8E8KTtts9Y/vsHAC7wPjZFinsV/aEKIGX8\n04AX1w4AAL1hoHbjkUA6uZsihUD0ZVPjTzFZvLCqF34pLfx2pIX/EKE9kKGqad97mtFPNf6pweWU\n8bsiLfyHBD1JwU//62/hK6leOdUwpJ52WvgnCVWluJIWflekhf+QYKs1QLMvY22/N+lDSeEBo7nb\nTL7wU0qx35USf95pxPXtjmGtTaWecaSFf0L4wes7+Nif/IhbutnuaIVkMCH28tpGC52BPJHnPkzo\ny5Nj/H/xwl28819/C81+OjzGGruFbCYt/A5IC/+E8K2XN/C1y3dx0OP7ku62NSY30AtLkpBkFR/8\n1N/ij35wM/HnPmxgJ+b97hADOdmC8/e399EfqunUMDR9v5TP4PxSLZV6HJAW/gnh7oHm+tjp8DHD\n3Y5W+PsT+BDfPeihP1TThiUHrO/PdjtZ2eXaVnvsGI4qLq8e4OLJGdRLubTwOyAt/BPCnQNNq+ct\nDjudyTH+1T3tWFOpxx/9oYqFmjbEnvSJ8vVNVviT/4xMExSV4sqdAzx4ehblfDY9ETogLfwTwjpj\n/JyFf5dp/BMp/F0AQGeQfoH80JcVnDlWAZBs4e9KZuO/n7DENG24sd1GR1Lw9tOzKBeyqcbvgLTw\nTwCyomKjqRX+XU6pZ2eCUs+azvjbKeP3RX+o4L55rfAnOcR1faszcgxHGcy//9CZOZTy2UMj9dw9\n6OF1Xa6LG2nhnwC22gMwMw+v1LObSj1TD0op+kMVp4+VASTL+K0F46hLPZdXmyjlM3jTYvVQST3/\n/q+u4R//3z9I5LnSwj8B3Nk3mSBvc3fHcPUk/yFeTRk/F9hJuVbMYb5aSDSo7dqmtfAfjkIXFy6v\n7ePiyRnkshmU84dH6ulLCkr5bCLPdc8UfkWl+OtXNvHSneakD8UXTN/PZkgAjZ9JPZPT+NPC742B\n/t6U8lks1oqJMv5rm20Uc9rX+SgXfq2x28RDZ+YAAOVCFt2hAkqnP+qkN1RQTgt/MGQI8M//5Ef4\n/55dnfSh+OKu7ug5f7zGXfh3jOZusl9qSVaxrvcj4pZ6DgszcwNrqpbyGRyfSbbwv77VxgMnZ/Tj\nOLpSz43tNrp6YxfQTsKUTkYiDYr+MGX8gUEIwXKjgls7Hf87Txh39vuoFLK4f7HKJfV0Jdlg+oOE\nGf/6QR8qBRZqhVhdPZutPh7+P76Bb1xZj+054gZj2qVcsoxfVlTc2O7g7ae0wj+p6e5pAEvkfOiM\nVvgrBa2QHoaroJTxh8Ryo4Kbh6Dwrzd7ODFbwkKtaLh1vGC9Kkjaqre6r8k8bzlRh6SokGJiTm/s\n9iApKr546Y1Y/n0AuL7Vxvv+3XcM2Uw0+lapR2f8SUgMb+z1MFQo3nZKK3aHgd3GhctrByjns3jT\nYg0AjEJ6GJw9/aGKYj6ZknxPFf6VRhVv7PagTHl08Z39Pk7NljFfLWC/O8RQ8f6iskK1WC8mzvhZ\nY/fCUh1AfHIPCxf79qtbsQWNvXiniasbLdzYjscyZzD+fAaLtSIkRUWzF39fhDV2HzhZR4YcDnYb\nF15cO8DFUzPIZggATeMHDoeM2J82xk8IeT8h5Coh5Boh5BMOv58lhHyVEPI8IeQKIeS3LL+7SQi5\nTAh5jhBySeTB27HcqEJSVENDn1asH/RxcraERq0IANjzYaCs8J+aLSXO5lb3esgQ4PxxrfDH1eBl\nr3GoUDwVk9zDTlpxSVZm4c9isa69t0l4+ZmV883HaygdIvuiaCgqxYtrTTyo6/sADM38cDD+KdL4\nCSFZAJ+Gtkv3IoCPEEIu2u72MQAvUUofBvBzAP6tZfk6APw8pfQRSumjYg7bGSsNbXDm9k43zqeJ\nBFlRsdnSCv9CVfsT+Xn5mRx0aq6c+Jd6da+LEzMlzFXyAOIr/Pt6sNjSTDG2nQPtvnbs3ZjYH2uq\nlvIZHK+XACTj5b+22cbxehEzpTyKucyR9fFf32qjN1RGCj9j0IfhZDhtGv9jAK5RSq9TSiUAXwDw\nIdt9KIA6IYQAqAHYBZC49+8+vfDfnOLCv9nShrdOzpUNxu+nOe/oEb+n5soYyGqi1rTVvR7OHKug\nVtTWM8cl9ex1JeQyBL/2E2fxg9d3YmHK7KTVleJ5Day4FHMm408invnaZtvQtI8y4zcndi2F35B6\npv9k2JMU43jjBk/hPw3A2nFb1W+z4lMA3grgDoDLAH6HUsr+0hTANwkhzxJCPhrxeD1xcraMQjYz\n1c4eJkOdmC2hoYd5+Tl7djsSCrkM5vUrhCTlnrW9Hs4cK6OqF/64GP9eV8JcpYAPPXIKKgWefOGu\n8OcwpJ64GL+T1BPzQhZKKV7fauPNxy2F/4g2d19YPdDdcjXjNsag4zrZi0RfPnzN3fcBeA7AKQCP\nAPgUIWRG/927KKWPQJOKPkYIebfTP0AI+Sgh5BIh5NLW1laog8hmCM7Ol6fa2cOmdk/NltEIIPU0\nqgVjQCepwi8rmof/zLGyhfHHUzT3OkMcq+RxfqmOB07U8dUYCj87afViKgLmAFcGM6UcirlM7Ix/\nqzVAqy/jTYtVANClnqPJ+F9c06KYWWMXODwav6JSSLI6VVLPGoCzlp/P6LdZ8VsA/oxquAbgBoAH\nAIBSuqb//yaAL0OTjsZAKf0spfRRSumji4uLwV6FBSuNKm5NsdTDpnZPzJYwU8ojlyGGlOOG3Y6E\n+WrB+BAnNcR196APRaU4fayMalF77vYgniUfe10JxyraifCDD5/Cs7f2jIlhUWjH3dyVTcZPCMFi\nvYjNZrzN3WtGY7duPPdRLPxsYvdBi8wDHB4f/8Dy2UkCPIX/GQDnCSHn9IbthwF8xXaf2wDeAwCE\nkCUAbwFwnRBSJYTU9durAN4L4EVRB++EZb3wT+uI9p2DHqqFLGZKOWQyBPPVgu/07o5e+A3Gn1Dz\njlk5rRp/O6aiud8d4lhVayB/8KFTALRVgiLBpJ642J9V6gGA4/Vi7IyfZfCbUk8mccvvNOB1h8Yu\nYPHxT7mdkx3f1DB+SqkM4OMAngLwMoAvUkqvEEKeIIQ8od/t9wH8NCHkMoBvAfgXlNJtAEsA/pYQ\n8jyApwF8jVL69TheCMNyo4LeUJnabVHrB32cnCtD64MDDY4hrt3OQJN6Emb8jHFbNf64mru7FsZ/\nX6OCR87O4SvPiXX3mIw/ruauLvXoJ+jFevzTu69vdVAr5rA0o/UUSvlsrJ+Pzz99G/9dQgmSQXB5\ndbyxC1iau1N+MmRkJKnCn+O5E6X0SQBP2m77jOW/70Bj8/bHXQfwcMRjDIRli7Pn+Ewpyafmwh3d\nw8+wUCv4N3fbEuarRaOgJGXXW93rgRCtaZ7PZlDMZWIpmpRS7OvNXYYPPnwKv/8XL+Haptm4jAp2\ntRIX++sPFeQyBLmsWfj/7sZuLM/FoDl6qgaRKOWysX4+Xljdx49u7cX274fF5TWtsXtuYfSzwq6S\nJ6Hxrx/0MV8toJDzF1bYe3bYmrtTg5WG1uSaVmfP+kFvpPD7ST39oYKOpKBRmwTj7+HETMn44NaK\nuVhcPR1JwVChmNelHgD4hw+dBCHAVwV6+ll/ohObnVMd0WiP10uxL123WjkBTeqJM9ajPVAg643I\nacLltQO87dRoYxfQMrwmkck/VFT84v/1bXz+6dtc9+8nzPjvucJ/+lgZ2QyZygbvUFGx2RrgxGzZ\nuK1RLXo2d5kM1JiAxr+238WZY+axVou5WBg/m1y2Mv6lmRLecW4eX33hjrB+DWvqxjfApaBkYWzM\n0smbwBoU7YGM9WYfbzpuLfzxFjmjTzJFmrmsqHjpThMPnp5z/P0k1i92Bwpa+vvDA3t/KG7cc4U/\nn83g9Nx0Wjo3WwNQqkUvMDRqBXQkxfXLuqsXjVFXT3JSz+m50cIfB+Pf07N5jlUKI7f/8sOncX2r\ngyuCdiyYA1zxST3FnJXxs9iGeHR+1ti1Mv64J3eNv+Fwenzxr291tMbumRnH35fz2djeczewq0re\nE46h8U/RANehgxbPPH2M/66+DPukpZguGENczqyQ6f+NWiHRRRuyouLuQd9YHA4AtWI2psKvSTBW\nqQcAHn/7CeQyBF99IbrcI8lmsmhczd3BUHVk/HE1eK0ZPQxxM/64Yy/C4HvXtgEAP37fMcffl/LJ\nzzZ0AxZ+0xiQFv7QWGlUcXOnM3WWzju6h9+q8TeqTA5wLg4szmG+WkyU8a83NQ+/VeqpFXOxeOCd\npB4AOFYt4GfOL+Avnr8LNWLiqrXYx9XoG8ijIVtxB7Vd22wjlyGGoQEAivlsrLEeQZlsEvjGS+t4\ny1Idy3p/z45yIfmF6+x7wvu8JuNPm7uhsdyooNWXjeCvacG6Htcw0txljN9FBzYLv3VyN/4PsdXD\nzxCbxu8i9QCau2dtv4e/fyOak4RdqRRymRjTOUebuwu1eBn/tc02lhsV5LPm15hdccRFDjoxy2VB\nsduR8PSNXbz3bUuu96nkc8lr/FKwflJfSjX+yGDOnmnT+e/s91Er5lAvmZLGgs74t10Y/05HQj5L\njAgAIBk7p1n4Rxl/XFIPIcBsOT/2u/e+7QQK2Qy+cWUj0nOw416sFWOLbNA0fvMrlc9q+UpxSj12\nqyuTCuKSNlqG1DMdGv+3Xt6ASoH3ve2E631KE2D8htTD2QvpT+Hk7qEDu/SdNp1/3ebhB2AJanNh\n/G1tsIkQkmhkwxrz8M+Zxxunq2e2nB+z4gHayeb+xSpe24y2PIUd9/GZIrpDJbJ05IS+PJ6nvlgr\nxtLcHSoqbu10Rxq7AGKVA2VFNf7daZF6nrqygdNzZbztlHNjFwDKE9D4WRAgd3N32iZ3DyPOzldA\nyPQx/rsH2spFKyqFLEr5jGs0805nYKRyJsv4u1iql0ZcKtViDh1JfNG05vQ4YaVRxc3taO9lixX+\nehGUxrPCsm9r7gKIben6rZ0uZJWOM/58fAYAq0Q2DVJPV5Lx3de28IsXl4wBNieU8xNg/AElMeva\nziRwTxb+Uj6LkzOlqVvIcvdAW7loBSEEjWrRU+phVwW5bAbZDElM4z99bPRYa3pQm+gBqP3u0Fj0\n4oSVhSpu73Yh+6yo9ILB+PUFKXEUrv5QGXNlxLV0/drmuKMHMAtHHOSgZQno6wYopJdXDyK9d274\nzqtbGMiqp8wDTMbHzxg/7wm4N1RQ0L/fSeCeLPyAFtY2TYxfklVstQcj0glDo+Y+vbvbkQznD6Dl\nwCQxwLVqG94CgFpRK86im6N7XQnzHoz/3EIFskqxth9+pSazITJvfTeGBq+2LNtW+GNaus6snPeP\nST3JMP4+ZyFdP+jjlz/9t3gqYo/GCU9d2cCxSh4/ueJs42Qo5ScxwBWU8SuJxTUA93Thny4v/0az\nD0oxpvED2lSuW16PltNjFsViPhvrSD6ge/j3+2OF34xmFsv49zrSmJXTCtasvxFB7mlbNH4gngGk\nwVAZk3riWrr++mYbJ2dLRmoqQzHG5q71fectaLsdCZRqQYMiMVRUfOvlDbznrUtGNpIbJiH1BNX4\nk1y0DtzThb+KnY6EZn86LJ1sdPukTeoBtITOXQfGP5C1se+GtfAnwPg3WgPIKh2xcgKIbf3iXldb\nwuKGcwu6SytC4WdslXnr47B0OjZ3jRWMYr3817baY41dwML4Y2jujhR+zhMnc7eIltb+7voumn0Z\n773obuNkKOezkFWKYQxykxtMVw+/1JPU1C5wDxf+aVu8fmd/3MPP0KgVsN2RxuSAvY4+0VozC39J\nH9CJE2sOVk4Asaxf7A8V9IYKjlXdGf9ivYhqIRtpl3J7MEQ5nzXkKtGX/opKMVTomMbPegoiVzBS\nSvG6S2ppnIx/ZAiO8+/XCehn58VTV9ZRzmfx7gv+S5vMaObkWD8jFryBdk79oThxzxb+ZSOlczoK\nP9u8ZY1rYFioFiHJ6lhBNeIabIw/bmuamcPvzPhFFn6v4S0GQgiWG9WIUo+CWilnbGQS3aA2Q7Zs\nUk8MS9fXm310JMVYt2iF2dyNT+ohhL+QM61bZNFVVYq/fGkDP3thkcsFwwo/b19CBKxzDjyvvTdU\nUUoZf3SYufzT0eC9e9BHvZgb02QBGBq+vcFrjWtgKOYysTN+Nrx1ytaIjkPqYVc1XlIPAJxbjNas\nbw9k1Io546pF9ACSW7piHEvXX9/U/g5vcmD8xuRuDHIga5A3qoUQjF/c3/uFtQOsN/ue07pWGFu4\nEmT81hMjz99KY/xpczcyqsUcFmrFqcnlv3vQc3T0ANYhrtHisGNJ5mQoxrxhCdAY//F6ccTDDyCW\nLVz7jPF7SD0AcK5RxepeL7RO2xnIqBazBuMXLT0wTd3O+ONYun5tswVg3MqpPX98Q37sfV+oFbkL\neRwa/1NX1pHNELzngWku/LLjf7uhP40aPyHk/YSQq4SQa4SQTzj8fpYQ8lVCyPOEkCuEkN/ifWyc\nWGlUIunCInH3oO/Y2AXMTBc747dm8TPEHbsLaIzfru8DiGXv7i6H1ANoXn5FpXhjN9z7yRi/UfgF\nN3fdGD9bui7Sy399u4N6MYfFWnHsd3H6+NuSjEIug5lynruQd2LYevaNK+t45/3zmPW5SmRgEkqS\nlk6reYBL6pGmzNVDCMkC+DSAxwFcBPARQshF290+BuAlSunDAH4OwL8lhBQ4HxsblhvVKWrujsc1\nMLjFNux2BshmyEiGTRLNXa3wV8ZuL+UzyBDBUk+XU+pZiCbdtfus8DOpJ57Cb79KArTZAa+Ezt2O\nBCXANPRBb4j5WsFxWrUUY3S3+Tfkt0eKZvzXNtt4favjO7RlxSQWrncl2fhMc0k9Do6wOMHD+B8D\ncI1Sep1SKgH4AoAP2e5DAdSJ9kmsAdgFIHM+NjasNCpYb/YnnisiySq22wNXxm9q/KOscLejRRlk\nLNN8msYf3+tRVIq7B86MnxAifBnLvksksx2mlz/cibwjaUUrmyEo5jIxaPzOUg/gvXR9s9nHu/7P\nv8KfPvMG93N1PdhhLptBLkNimfWwymWTYvzfeGkdAPCLHDZOhklIPR1JMa7k+Ri/OnWF/zQA66dy\nVb/Nik8BeCuAOwAuA/gdSqnK+djYsKz7v2+HlAdEYaM5nsNvRTGXRb2Yw7Zd6mlLIzIPu2+cPv7N\nVh9DZdzDzyA6oXO3K6FWzPkupJ6vFlAv5UJ7+bWipbH9IIWLFwOP1Xlehf/zT7+BrqQYkd086EmK\nIVk5IS45sD1QUCvmUQ4Qc8zSKUUNzD11ZQMPn5l1JVFOmISdszuQjSt5ns+a0/BfnBD1TO8D8ByA\nUwAeAfApQoh7XJ4DCCEfJYRcIoRc2traEnJQy/PT4ey5a1g5nQs/oMc2jEk9o1O7gMYo42T8TnHM\nVtQEJ3T65fQwEEJwbiG8s6elyxQAUCnkxNs5PWJ1j9dL2OsOx/zcQ0XF//v0LQDBpJCuJBuSlRPi\n2sLVHgxRMxg/399P5J7j9YM+nn9jH+8NIPMAyUs9qkrRHVoYP8fz9qZwcncNwFnLz2f026z4LQB/\nRjVcA3ADwAOcjwUAUEo/Syl9lFL66OKi/1AGD5g8MGmd/66xgMWdpTRqxbGx9t2ONDK8BWiMP87m\nLvPw2wPaGERLPX7JnFashPTyD/U4YVb4q8VsDM1db6kHGN+58M2XNrCh2zyDsNHeUPV0gGiFX/xn\npDNQUNU1fm4fv36CEOGh/+bLWt7P+zhtnAyGjz8hxt+XFVAKbqlnqKiQVTp1Us8zAM4TQs4RQgoA\nPgzgK7b73AbwHgAghCwBeAuA65yPjQ2zlTzmKvnALLEryfij798UFj9812Hloh2N6nhQ23Z7MC71\nxM34d7WT1GmHQTNAPOPf60i+Vk6GlYUq1vZ7gb/A7HiZ1FMu5AKlS/LAcPW4NHeB8U1c/+WHt3B6\nroxTs6VAbLQnyZ7ssJjPxKbx14o5lAuawYCnIW0wfgF/79u7XRRzGbz5eD3Q45LW+NlrXuCUethn\nZ6oYP6VUBvBxAE8BeBnAFymlVwghTxBCntDv9vsAfpoQchnAtwD8C0rptttj43ghblhuVANP7z55\neR3/+1eu4KW7TSHHcHe/h5mSOTzkhEatOKLxDxUVzb48LvXkshgqNJALJAhW93pYrBdd2UdV8MJ1\nv5weK84tVEApAls62fHWSjrjL2SNiVJR8MpTN3fvmoX/2mYL3399B7/+zvtQK+UCSj3eGn8plzV6\nDiLRsllieQqpSFdPszd03NLmh5Ih9SST1cNec0Nn/H5Ehf0dk5zcda9EFlBKnwTwpO22z1j++w6A\n9/I+Nkksz1fwo9vB9rWyoa9mT0zA2x0PDz/DQq2A3c4AqkqRyRBjAbkT4we0AR0vnTcs1vadHT0M\nVcEL14NKPYCW0nl+iZ/1seOtWZq7ovcxu0U2AJbYBkvh/+Mf3kYhm8E/fvQsnrqyEYgR9yTvYR+t\nDxSH1KM1yMsFc/rZaRJ95DF6wZf0K4QoefMHvSFmQhT+bIagkMskxvjZSW5O3yrn1w9hZo10clcg\nVhoV3NnvcQUlMbChr2ZfDCtcP+h7NnYBzbWiUmBfP9nsOMQ1AOYWrricPat7XVdHDyDW1TNUVLT6\nMnfhN1I6A0p3bX2BSNXS3BVu5/Ro7jKtl3n5OwMZX3p2Fb/00Ek0akVU8lnuPcCUao1DT8YfQ3NX\nUSm6kqIx/gDNUuuVVdS/ebMfjvEDmoySlMbPXmdV/1v5Xe2wE9LUTe4eZiw3qlCp2bTkwW3G+AVF\nOt896Hnq+4B5WcgavCynp1Gzu3ri26mq6stOvBg/0/hFLBZhrPtYle/LPFcpYK6SD+zlb9sYf7WY\nNZioKDCpp+jA2uxL1//rc2toDWT803cuAwhmL2Uyn5ceHEdzl7mgRqafOY65I2mbpYDorpqD3hAz\npXBXueU8vxMpKtgVZqWQRangf8Lx6g/FhXu+8K8sBF+8bjB+AVLPQFaw3Zb8pR5d0mE6v1NcA2Dd\nuyu2cFFK8fzqvu7h95Z6ZJUKOfGwnB6/4S0rwuzfZeFirPAH8aHzYjBUUMxlXHe/shWMlFL8lx/c\nwttOzeDH75sDoGm7gZdye9o5xSe4Whvk5QCFvysF87N7odmTQ0k9gL5+MYHNdYDJ+CsFPgeU+Z5O\nmcZ/mMHimXnlgf2uhAO94LcESD0bBxrL42X8zNmzq1v/xn38Yhi/rKh46W4Tz9zcwzM3dnHp1q5x\n0nmLh35uTeiMaj9jcQ1eaxftOLdQxQ+v7wR6HrNoZY3/70jaVYvXku4g6A+9R+6PzxSx2Rrg0q09\nvLLewr/51QeN5+aRAxjYIJT3AJf4LW0dS4Oc9Zb8TlaSrGKoUCzUirh70I9e+CNIPUmuX2SMv1rM\natu/OKWeJAe47vnC36gWUC1kuRm/9X4ipB4eDz8wntC525FAyDgbNjT+CF/sH7y+g9/+z5cMrf7s\nfBnvPr+Inzw3j3ecmx/b42qFdRlLwyEkLAh2jbgG/i/zSqOKL//9mm+D0wr2Ouv6EpZyIQtKtZOn\nKO90f6h6fnEXa0Vc3+rgP//gFuqlHH75kVPG74IMRLHi6a3xi5/cbRlXTdaEU+9jZr9ntsZehOld\nVaVo9oaYKYUr/BUOyUUUrIy/zJFr5OUIiwv3fOFnSzx4Gf8ti1VQxJ5UnqldQEunJMSUerb1nB67\nC8LcsBT+i/3srV20BzL+4MOP4LFz84HG32sC9+7yRjJbYUh3ux08cIJvOLxtZ/wFcVctDH4hW4sz\nRWw0+/j6i3fxG+9cGXFklQs5/hV9TBbw8vHnxBc5g8UWctwRCKyPwprbURh/R5KhUkRq7ibm45dM\nxl/hkPGm0sd/L+D+xSqubba57ntL14+XGxW0BDD+OwfuKxetyGYIjlUKZnO3PR7XAFgWbURg/Dsd\nCdVCFh965HSgog9YM/mjf4l4kzmtCLN/VyvwGWMpdxCNmhd+q/MWa0V97yvFP33nfSO/qxS02Qye\nXQM8DpAJPt0SAAAgAElEQVRSXnyeU3tE6uH7+zFHz0I9euFn8utMORxXTVLq6Q5kEKI1a8scMp5b\npHecOBKF/8JSHat7Pa7L6Vu72hKSpZmSEKln/aCP2XKey3Nvnd51yukBTMYf5YvtFAXBC5FbuPa6\nEoq5TCCms7IQPKWTDR4xVGOIZvaVevTi9zPnF8aktGADUXxSj6TwTdbywij8xRwqeb6/n53xRym8\n7Oo7NONPUOrpSAoq+SwyGcJ1NddLGX88uLCkfdF4WP/tnS5WGlXMlHJCpJ71gz5OzHizfYZGzSz8\nO53xuAbAHOCK0rzTTirh9HmRe3f3dDkrSIN1ppRHo1oIzPitU9OVovi9u/2hgqLHF5ddqfwPP70y\n9jtDOuEJ89KPuZz3DmkDxG7hcnL1+M0eGIxfgKvHYPwhNf5yPskBLhkVw0GW4ZB6ktf4j0ThZ1Oe\nr274F/6bOx3c16hgppRHaxCd8QdxIjRqRWxbmruOUo8Axu8U98wLkesX9ziTOe1YWajiRoAhro6N\n8QcZQOJFX1YdPfwMD52Zw7d/9+fwnreOB4wF8cVzMf4YhvysjL+Q0zL/gzL+KD56dvUd2s4ZwDkV\nFZ2Bgqr+/vAMC7ITktfnRzSOROFfnq+gkM3gtY2W5/26kozN1gDL8xXMlPNCGH97IKPOOXTCpB5F\npdjvDR1dM+IYf7TCL4Txd8MdR1Avf6s/yvjj2B088LFzAqa12I5y3oxA8AMrEn6Tu0C0z4gd7YGM\nnL7EBtCuUnw1fsPVE13qYYw/tJ0zwNawqNCylFggoP8wXV/P4s9EiLMIiiNR+HPZDO5frOJVn8LP\nFrYsL1RRL+XQ6g8jJ3S2+rIRDuaHRrWIg94Q2+0BKB0f3gKiRzZQSrHbicD4C+JcPUFyeqw4t1DB\nZmvAXbg7tkyZOBZz+Pn4vVAJJPX4B3rFsXeXyWXG7AGHW4UZAGbLeeSzJFJCZ7MXnfFLnImiUdGV\nZMNBVs5nISkqZI/GfZTPTlgcicIPaHLPaz4aP/PwL89rUo9Ko+vA7X4Axq9roa/pkpSzqyfaAFd7\nIENS1NCMP5fVmrEi2DLvEhY7VgJm9rT7zs1dkWFz/aEaOmQrlNTjGdkgfrq7bZfLOKKtDT97MRvZ\nVdPsDUEIUPcJhXMD+xsn0eDtSIoxWW28tx7Pm/SideAIFf4Lx2tY3et5FiyWyrnSqBq2sajTu9rm\nJ77ixppgV/UrEydWznJPwn6Ad43wt3CFH2DLWKJ9gVSVYj+C1AMANzmdPW19gQgDa+6KzG4ZRFiW\nzR7HW/gLWdOa6gRz1kNg4bedPMscwXLWkxTPFYIXmn0Z9WIutBySZCZ/dyAbV8bG1ZfHa+8LHCTk\nxZEp/Oc5nD23drqYLecxW8mjrrsHolg6B7ICSVEDMH5NC2W9CCfLZSZDUMiGj93dcQl/C4JaMTrj\nb/aHUGmwnB6GoIy/Y+uzVAIUWl742Tm9YNo5OTR+SfadWDb6QCKlHot8AfAFy3UkGcWcdpLiuULw\nQjNkJDNDKYaGvhusGj/P1VxPSqWe2GA6e9x1/tu7Xaw0tMlQZhuL0uBlVwu8hZ+xXyZJubHhKFu4\ndtvOcc9BIGL9YpjhLYZaMYfj9SLXGkZZUdEbKoa8A2hyVSGXEWbnpJT6Tu56oRJgroBnN2s8zV0F\nNYuVkqu5a7nS4rlC8MJBhLgGINn1i9aTJM+Mhna1mGwpPjKFnzl7vBi/ZuXU2KQp9YRn/O2AhX9B\nL8bs5OTW+Iyyd3e365z6GQRiCn/wuAYrVhb4nD3W8XkrokoPVkiKCkrD+7CD+Pj9tm8BVsuvSKln\naMR1AJzNXUk2jjVI9LQTogS0AUlLPSbj55HxUo0/Rvg5eyRZxdpez2D8IqQeM9iK7wM7U84hlyFo\n9WXdCeH89pSiMP5OtIILiNm7yzaMhXH1AMA5zvwldpz2k2+1IG6TmFcWPw+CNHd5wulKcUg9g9Gr\nJk268RvgMh/Dc4XgBW37VvhosXIM8p4TJFmFpKgjPn7A+6TOcxUnGlyfVELI+wkhVwkh1wghn3D4\n/e8SQp7T//ciIUQhhMzrv7tJCLms/+6S6BcQBBeW6q5DXGv7PagUuG+eST3aGxZJ6tEHwHgZPyHE\n0N69NPhiLrzGv9uRUMhljA9mGAgp/BGkHkBj/NttyffE3LZMnFqhpSaKkXoGEbNW8tmMZncUxfhj\nmty12pLLvIzfInlEjWyIwvhLMVh4ncBeY8Uicfk971TaOQkhWQCfBvA4gIsAPkIIuWi9D6X0k5TS\nRyiljwD4lwC+TSndtdzl5/XfPyrw2APj/PEa1vadnT2Go0dvHDLGL0Lq8dtLakVDl3u8pJhihGXa\nbGo3Sg69CFdPmCUsVpzTUzr95B7rxKkV1UJWOOOP8uXlXQ3YHSqeS1isxyGK8VNK0ZbGp5/9B7hM\nxs9zheCFyBo/h7tGBFjfiBErMxDQ/bVrxoApK/wAHgNwjVJ6nVIqAfgCgA953P8jAD4v4uBEgzV4\nnfz8Vg8/ABRyGZTymUh7d5nUE+QDy5i+l80xyjLt3c4gkpUTEOPq2e1IyGZI6FV6ZlibT+F3OflW\nCuK2cJn7dsMrp7x7gPuSgrLP84j28XclBZSOXjVV9ElYrxWcnYGp8fNcIbhBkrUG/WHQ+Ls2xs8z\nP8Amd5MEz7OdBvCG5edV/bYxEEIqAN4P4EuWmymAbxJCniWEfNTtSQghHyWEXCKEXNra2uI4rOBg\nYW1O0Q23droo57NGiiKgFewo6xetUba8YEzfy3WjMf7wUk/Uwl8taomDXtOIftjrDnGskg995bE8\nz+fl77hIPZVCVpirR8TOVN7mZ3co+ya9itjZYEXH4aqpXMiBUu/n6EqmqyfIljE7oub0AMESUKOg\na2f8PM3dadX4A+CDAL5nk3nepUtAjwP4GCHk3U4PpJR+llL6KKX00cXFRcGHpeG++QoKuYwj47+9\n28FyozJSiGbK+UgDXEwmCiT11DiknnwmtFVvJ0JcA4MRzRyBMe93pdAyD6AxyJOzJd8Gr5vUUynm\nhDX6hEg9nIyYp7mbzRDks0SYnbPl8Dfk2cLVtbl6/K4Q3NCMmNMDWDT+uKWewei+BL/dD5RS9KZR\n4wewBuCs5ecz+m1O+DBsMg+ldE3//00AX4YmHU0EuWwG9y84O3tu7nSNxi5DvZSL5uoZaAMshQBu\nDy6pJzLjj7YyUUTI2W5HCrRr1wnLjYrRm3GDa+HP86879IO5SCOK1MPJ+PWsdz+UBG7hcrpq4llm\n07H6+DmuENzA5FYRrp64ffwm49eOtZjLgBD352VW4CQXrQN8hf8ZAOcJIecIIQVoxf0r9jsRQmYB\n/CyAP7fcViWE1Nl/A3gvgBdFHHhYXFiqG1k4DKpKteGthdH0xKhST6svG01iXjAvv6erJ6Sdsz9U\n0JWUSFO7gJhlLGFzeqw4NVvGur7a0g2uUk8xi66w5m70DUpljslWxg55ikQxH37Www6nk6efdKKo\n2rFaGT8QLiYjajInoDmnchkSu9RjnxshhHjKXH0p+Sx+gKPwU0plAB8H8BSAlwF8kVJ6hRDyBCHk\nCctdfwXANyilVgq2BOBvCSHPA3gawNcopV8Xd/jBcWFJc/ZYB5DWm31IsjrG+KNKPUEC2hh4GH8x\nF26Z9o6AnB5AzDKWsMmcVizNlrDZGngmqLYGMgoOV12VQhbdkNKDHX2ZfXnDM35tYYf333Mg87PD\nUj4jbIDLqUHup12zAmv18Xvd3wvNiEtYGJLI5GfLZ3h3KoswBoQBV1WilD4J4EnbbZ+x/fw5AJ+z\n3XYdwMORjlAwmLPn2mYbj5ydA2A6elZseemRpZ7+MHDh/wdvXsD/+t4LeOzcvOt9SvlsKMZvxjVE\nb+4C4Qs/pVQr/BGP48RMCbJKsd0Z4HjdecuZfQkLQ6WQg6JSDAQEZDHGX4zU3PXvOfAkczKU8llh\nGr9hUbRM7vpNG7MCWLYx/jCMWwTjBzSdP26px2D8I4XffQsXu/2wN3enHhccMnuYTrzcsDH+UrRl\nLPYoWx6U8ll8/BfOexaR8Ixf2+4VtbnLCkBYqacjKRgqNPTwFsOSvtJy42Dg/lwDxfE9qEZgoHZE\nHeAC+Jq7Rswxx/5mjfGLknq047K604yJVBdvvl3yCDKdbIcIVw/A8oKSYfzWq7JK3t2qazL+tPDH\nCsPZYy38u13kswQnZ0dZ40w5B0lRQ7OEVgiphwfFnMb4g8oUIiKZAavUE+7vEjWugeGE/n6tN911\nfvv2LQYzGC16g9d09URo7nLIEAY75JF6cuIYv5PU41fIOzbJg20ZC1N4D3pDFLKZyKsJy/n4t3B1\n9Nhsq7Sobf9yPgmnjD8hZDMEb1qsjUQ33Nrp4MyxyljGedS8niBZ/EFQymegUkAOuE2IFf5GRFdP\n1ObuPotrECD1AMCGR+HXpJ7xL5WZyR+9EIho7jK7o1e/ghUtniJREtjc7QxkZMjo8/pp/F2b5GFu\nPQv+mWn2ZMyUw898MJQ9CrAodC0xFQwVj2TSnoDPThgcucIPaA1ea0rnrZ3umMwDRM/rCaPx8yDs\noo2djoRchkSyxQHRNX6WEBpV6lmoFZAh3oXfTW6LIj3Y0ZcV3TsfobmrF0iviWyeResMpXxGmJ7d\ntq1dtB6DG4PvWLZvWe8ftrkb9TML6LEYcUs90miYHWCe1J0wEHC1GAZHtPDXDWcPpRS3d7pGVIMV\nTFMMk9dDKQ20aD0I2IckaGzDbltrqEZlTsWcZo0Lz/ij5fQw5LIZLNSKnpZOtivWDkPqEbBCMsra\nRfN4/O2OQaSeokAfv9PJ02+HALPKGow/Qjpm1EhmhnICC9etQ2sMJY8ZDeMqbgp9/Pcc3nzcjG7Y\n7UhoDWQjh98Kg/GHsHR2JQUqDTa1ywvG+IMWfhFTu4DmTY6SyW9q/NG/zCdmS54av9vJt+pTuIJA\nRLoij93RZPz+n6liPpwBwAlOJ89SXhtMcpMwDMZvd/WE1PijWjmBhDT+wXh6asXjSkNE3EcYiK9K\nhwDM2fPaRhtMUV1xlHrYFq7gjJ8VxaADXDwohgzhEhHQxlCLUPh3u9ribBEsbmmm5Dm92x7IY5fe\ngFloReT1iEhX5LE7dm3F1AthLb9OcGL8hBBPX3zPcPWY6ZxAeKnHbrUOg6gL33mgMf7xCHC34byU\n8SeI++YrKOYyeG2z5WrlBKxST/DiYOT0xKjxB7XriQhoY6hGSOjc70qYKeU9F4bz4sRMyVXqUVU6\nEhRmRVVkc1dWjJNxWPBo4EGayKUIW9rs8OqTuBU0O+P3u0LwQrMvi9H4C5lEGL9925vXEhp2Ikqa\n8R/Jwm919tza6YIQ4Myx8cJfN6Se4Iw/6L7dICgaGn/w5q4IqQdgy1hC2jn1ZE4RODFbQrMvOzI5\nVnyc3oNKXpzUMxgqkb+4ZeN4vELPJtPc1aSe8ef0mj3oDrSGN7Ng+l0huIFSioOeII1/Uow/n4Uk\nq1AcHFtMri0V0uZuIriwVMNrGy3c2uni5EzJkUWV81nkMiSU1GMU/lg0/uCr9SRZRasvRw5oY4iq\n8Ue1cjKwIS4nnd9t+xZg0dRFNXcjMn6evbusaPLaOWWVRorOZtCG4MYLr9dgEtu3a3cC+eUR2dGV\nFCgqFarxi4jpcENHGmf8XjJeT1KQIUBBwNVvEBzZwn9+qY47B328dKeJZRf9kBASOq8nTo0/zGo9\nttx8PmJAG0MUjV9ETg8D8/I7yT1uAW2AtmgnnyWBC5ETRDR3eaSenr6wI5Pxd2WFdX45oe0yC+El\nYXQH47bGMMtYRMU1aM/vb5mNiu7ASeN3H15jn52oTrugOLqFX3f2XN1oOer7DGHzeuLV+IN/qc3h\nLVEaf/i9uyKSORlOzGpXME5efr+rrkohJ4bxy4qQqVLAZym3xL+ww1y/GO3ExmzJzpZY90LecRxk\n4tsyZoWouAYAxuayuOQeVaXoDpWxfdZe7+0klrAAR7jwM2cPAFfGD4SPZo5V4w8xwCUqroEhkqtH\nQBY/g5fUw3oQTkUL0PJ6xNg5xbl6/DR+HisnYDYL+xHZ7UDXpp0IjNcOAadBJq8rBDccdEUy/ni3\ncPVlbUVlZWzmQX9vHaaWJ7FvFzjChf+s7uwBnB09DDPlXEhXz+hCBpEIcxm/I5zxa66eoHppf6ig\nN1SEafz1Uh7VQtZR6nFbwsIQphA5QYzUozd3PYpSbyhz2/7CWn7t8PobesUNW/ftMnhdIbihGWJv\ntRvYexRX4TeIRgDGP4l9u8ARLvzM2QN4F/56MR9K6mEWuCyHHhsUpp0zAONvawmWogpurZiHGmKj\nEsvpESX1AFouv5PU41f4q8WcQB9/tK+SaXf0bu7yOHqA8LEedrQ9CIzXFjMnGy3vljErmMYvKrIB\niE/q6Rmuq/ErHbfn5V2sIxpHtvAD5vJ1T6mnnAuV1dPqD2OZ2gWsds5gGj8h0RMxGVizL6jcY0hO\ngo4D0Bq8ToXfbO46f7FELeYYDJVIWfyAaXf0K/z8Gn9w55cTjJOng9TjdcXUcYgu8LpCcIOIfbvm\n88fM+F0G7LxcPX0BVuAwOJKTuwy/+uNnUC/lPQv0TCkfKqsnrpwewNRvg0o9c+W8sCsQa1DbYp3f\nIioqp8eKEzMl/N2N3bHbvYoWoL2GzZb36kYe9GUxy7L97I79ocLdozGcXxGLXMfjqslLunFy9YTZ\nc8wYvwh3XNyM35istv2tvHKKekPnfRFxg4vxE0LeTwi5Sgi5Rgj5hMPvf5cQ8pz+vxcJIQohZJ7n\nsZPEuy8s4vf/0ds971Mv5dGRlMB+6FZfjsXRAwD5LPFc4OwEkVO7QPiF63tGJLN4qcceadweyMhn\niSsbDyM92KGoFEOFCtFp/eyOQaQew9UTMbbBaxaiUtBmBSQHAtKRxvsRYeyczf4QdUGS6cQ0fg+p\npz9UI18thoHvp5UQkgXwaQCPA7gI4COEkIvW+1BKP0kpfYRS+giAfwng25TSXZ7HTjuYthi0wRtm\n0TovCCEo5bKBGX/UHH4rwu7d3dW3gImWemSVGg1sBre1iwyVQvSF6yKy+I3j8bE7anZOTlePaKnH\npbnLjssKSllUhkPhDyz1yEKsnOz5geh9Dze4bUgre5xw+lOs8T8G4Bql9DqlVALwBQAf8rj/RwB8\nPuRjpw4zIZextHSmEheKAZdpi2b8YZexsOIsqskMAEszzl7+tsv2LQZtz2205q6ZriiG8Xunc47r\n5m4w5cCoUo/2eM+dBjabIrOA2gtgJZ/FUKEYBrh6PugNhRX+KAmhPDDtw3aN3z0eRNP4p9PVcxrA\nG5afV/XbxkAIqQB4P4AvhXjsRwkhlwghl7a2tjgOKxkwnT4o449T4weC793d7UjCpnaB8MtYdtoS\n5ir5SEtL7Fhymd7123nMpJ4oI/zMJy9K4/dt7gaVeiIzfo3wODXI3aaNze1bzpJHEHmt2R8a8ehR\n4cW8RcCN8bOrL8fIhilm/EHwQQDfo5SOd9p8QCn9LKX0UUrpo4uLi4IPKzwY2wg6xNXuB1+0HgRB\nYncVlWKvKy6gDbAy/qBBcQOhxwG47971K/zVYk7TqCPk2YhYtM7g5TJSVYqBrIZw9UTV+EcXqljh\n1iw19u26LG8JwribggLagAQ0fsmZ8ZuOrXGSFGQaWyR4Cv8agLOWn8/otznhwzBlnqCPnUqEkXoU\nlaIjKbFp/IDG+Hk1/v2uBErFTe0C5oebMUJe7LTF9hoAYLFWdFzB6LZ9i4HH5fHpv76Gb7284fp7\nEYvWjePx0MDZ7YGbuxEZf2cgo1rIOuYDuUkY9n275v39p5PtaAqUeoo5bVYirvWL3YEMQpwjlp2M\nBOxkXpzSwv8MgPOEkHOEkAK04v4V+50IIbMAfhbAnwd97DSjHmILl5+NUASCrNYTHdcAmF/qdmDG\nL6EhUHIC3Fcw+jN+tozF+TVQSvHpv76GL/1o1fXfYK4ZEV9erTi4D0Sx+/CApT2KGOByO3mWXQq5\nfd/u+P35j0lUJDMQPhqaFx1JQSXvfJIsOWz/YsRtKhk/pVQG8HEATwF4GcAXKaVXCCFPEEKesNz1\nVwB8g1La8XusyBcQN8JIPcz3H6fGX8rzM34zrkEc085kCCqF4MtYdtoD4YUfcF7B6K/xM+nB+TXs\nd4foSgq225Lj7wGxq/O0ZrP3wo4yZwRIJkNQyGWi2zkld1uyW7PUvm937P6cJyNZUdGRFCFxDQxx\nrl/sSsqYvMXg1L8xHWHJN3e5PkWU0icBPGm77TO2nz8H4HM8jz1MqBdzICQc44/V1ZPj/wDHwfgB\ntoyF/+8iKyr2e0NhOwGscFrBqG1D8m7usvs5YW2/BwDY1uMunDAQLfX4LeUOwA5LuUzgLW12eFli\n3Zu73hOsvIybfedmBcQ1MDgxb1Hwcl1VHGS8MO+pKBzpyAYeZDIEtUIu0PSumcwZr8bPexlvMH7B\nTDtoQudedwhKgYU4GL9tBaOqanHCXnKb3x7Y1T2t8O/wMH4hPn73gagg+3YZSnl+OdAN7b7zzmLA\nIt0M7YXfORWVzSDwrl9s9sRFMhvHUIj+N3GDtmjd+W9VcpCYegI/O0GRFn4OzJTzgfJ6WLBVnBq/\n5urhY3O7euESldPDEHQL144+vCW6uQuMr2BkxchpgQiDX7ORMf6D3tCxGAOmxi/E1eOzqcl6Hx4I\nKfweJ083qYxp/HY7Z1DGbwS0CSRQYRJCedGV5LHX7PW8IklDUKSFnwNBl7Gw+8Zp5wzC+Hc7A9RL\nORQED4oEXbjOTkCiJSfA9PIzZ4/X9i0Gv+bums74AVMus0Okq8fL7hi0ucuOKeq2qY7kLvW4ZdAw\njd81l55b6tED2gQmucYp9XQ8NH4nxxb7/t4LPv57EkGD2hgLFjV44oRiAMYvcsm6FZrUw/8l2taL\nZ1xSD2B6+Znc5nXyLfs0d9f2u8Z/u+n8Ypu77lcg3YB2TkCg1ONy1cSWqY/5+PXjt2vXPHuFrWBX\n2eKbu/GsXuwO3Bl/OZ9zYPw6aZjSyd0jj6DRzK0EpJ5ijj+yQXRcA0PQ9Ys7evFs1OKQekZjG7xS\nJRmqHM1ddvLeci384iZ3veyOzHse5HlKuawAH7/zonUGJ386i4+2B6v59VTsELlvl6Gcz8bn4/fY\nkObY3A0h34lCWvg5MFMKtoyl3ZeRzZBYu/XFfIZ7rZ5W+MUX26Cunt2OhAwB5gR+kRnssQ08hd+Q\nVlxOoGt7PTx8dg6Ae4OXMeqoO3e143HX+N3iALygfUbCF7mBrEBSVJ8+ybgFVRucG39MVreYOq0g\ndIK5b1ccgSoXstzPHxQdyf3qqOwwoyGyPxQUaeHnQL0UbP0iW8JCiPjtWwylXBaSrHLlzMQr9fD/\nXbbb2pWH04BLVBgrGJnUw6HxF3IZ5DLE8eTVlWTsdYd4+MycfuwujF9WUMhlhLwmr9z2MFJPMSLj\n99tZDDDtevTv58d8eRn3QW+IfFYsgSrls+hJcUk97q+7nNfeC2t0uMH408I/nZgpaxq/Pe/dDa2Y\nA9oA/i1clFLsCQ5oY6gWcxjIKnfa4k57EIujh8G6gpGH8QPumfyssXt+qYZSPmPIVHYMhqowjdbU\nwJ0zXQgJdmVRCpjgagffVdP4389p365x/wCTs83eEDOlvFACVRbQ93DCUFEhKaq7xs8ioS1XYKmr\nZ8oxU9L2y/LuZ23FHNAGWPfuehfdZl+GrNJYGH/QZSxx9RoYluqml583NsMtmnlVt3KeOVZGo1p0\nnd4VsWjdeiyAy6YmXTcPUgSjNnf9dhYDzsFyTvt2jfv7bBmzQmRcg/n8GfSG0RJZnWC4rgIMu4l0\nhAVFWvg5EDSaud2XhToRnFAyGL/3lyiuqV0g+N7dOHJ6rDgxW8JGczByTL6Mv5h1tHMyxn96roKF\netHT1SOu8HtLPUFkHkD7jPD2gZzgtX2LwWna2Gnfrtf93dDsy6gLLvyVQs7YmiYSXZfZBQanQMB0\ngGvKYeT1cDZ4W4NhrI4ewML4fb7YxsarWBk/3xd5uz3AQgyOHoalGXMFY2cgG3ZDL1QL4zY7QHP0\n5LMEx+tFLFQLHoxfFcbYvOyOvQBZ/AylAEF+TuC5anIKltO0bjeph3/5TRyMP65oZvYdcHuPnIbz\n+kMFuQwRupuCF2nh54ARzcxp6Wz3E9D4c3zpizsxDk0FWb8oySpafTlWqefETNFYwcj2IfhJI2WX\noLm1vR5OzpaRyRAs1IquGr+oReuApn8DLoxfklHhXLvIEGS62wk8Gr+TP70jecc88DL+Vk/cEhbj\n+Y246mCFX5JVXNtsu/7eZPz8gXa94WSy+IG08HPBlHo4GX8CGj8rNv6MfzoK/25MeUFWsIUsG80+\n2gOF6z2oumTgr+51cXquDEA75p2O5Njc11bnifny5rIZFLIZFztnCMafz+iyRrjiz6JH/ILunLJ6\n7JHMI/cP4OqJQ+MHgq9f/OMf3sLjf/Ad7Hedr/w6xrSy8+suOZzU+8PJZPEDaeHnQnCpJ75F6wyM\n8ftp/HFEMjMEae4yjTxWV4/Fy98eDLkKf6XgPIuwtt/D6WNa4V+oFaGo1BgoskL78or7GmmMePx4\n+iHYYSkku2Xg6ZO4uXq8GD9P4aeUamsXRRf+kFLPC6v7GCoUr291HH/vz/jZzIj53mqL1idTgtPC\nzwF2uckj9QxkBZKsJij1+DP+cj4by3RgGMYfR1wDg3UFoxbJ7P+anQqXJKvYbA0Mxr9Q105WTg3e\n/lAx+i0i4MaINW98sOcpGoU/HOM3fPwez1suaPMkin41JCsqBrIaaILVCf2hiqFChZsknJg3D15Z\nbwEAbm47F363tYsMptRjvheTWrsIpIWfC4y980g9bSOSOSmpx9/VE5euHoTx78TYZGZgKxg3m320\nfdYuMjgV2rsHPVAKk/Hrx+zU4B3I4pq7gLvdMUxzl7cP5Ib2YIhSPoOcR/PRni/Ejt29API1d+OI\na2fMZRQAACAASURBVADCafxDRcXrW5q+f3PHhfGzPcMeA1zAaA6TyP5QUKSFnwOFXAalfIZrGQtP\nOJgIGANcPmwuTgulkW7JU/jbTOOPT+oxVjDqhZ/n5FspjhciZuU8w8n4RX553WKDwzB+XnLghrZP\nTg9gCbrTC6mRzBlggtUJccQ1AMGD4gDgxnbHsH9e92P8PrsLrCecnjTlhZ8Q8n5CyFVCyDVCyCdc\n7vNzhJDnCCFXCCHfttx+kxByWf/dJVEHnjRmSnmu9YvG9q24ffy58UlAJ+x2BrGx7GIui0I2w5XQ\nudORkM+SWBNLAbaCceCpM1tRLWQxVEaXn7DhLcb4Gwbjdyv84viTm92xK8nBNX5OOdAN2vYt7+es\n2PzpRha/n+Thw7jjZvxBNH4m85yYKblKPYzxu9o5nZq7sjq9hZ8QkgXwaQCPA7gI4COEkIu2+8wB\n+A8AfplS+jYAv2b7Z36eUvoIpfRRMYedPHjzepLI4gf4Gf9uO95p2Woxi/bA/4S409ZOQHHmFwG6\nl/+gr9k5OU4yZYcM/LW9HggBTs5qhf9YpYAMcQ5q6w9VYa4eACi5MP7+UOXet2v8WwKau35ymX3o\nzI/x82byN2NYwgJ4L7txw9X1JrIZgl9463Hc3O44Tv12JAWFbMZ154Vj4ZcUlCcwtQvwMf7HAFyj\nlF6nlEoAvgDgQ7b7/BMAf0YpvQ0AlNJNsYc5ecyU+RI6k9L4WUPR60tNKY0toI1Bi2bmYPxtKVZH\nD8OJmRLuHvQ8F4hYwRqX1sTGtf0ejteLxpc4kyGYr45P71JKheu0Tlk2sp4DE1bqCcv4/ZbVA+NR\n0r4TrB7LZqyYJo3/6noL9y9U8ZalOjqSgq3W+JVfT5JdrZyA9hmyL0/qCZYJg4Cn8J8G8Ibl51X9\nNisuADhGCPkbQsizhJDftPyOAvimfvtHox3u5MAr9bQSa+76h7R1JQUDWY0lkpmBN6FzO+a4Bga2\nglGl3v5zBla4rCevtb0ezhyrjNxvoTY+vSspKigVm7XimG8fIpkTMI8rLOP3WrTOYN8axp1Z4xON\nHMe+XSCcxv/KegtvOVHHykIVgKb529GRFEP2coP9vQ1j0RUFUZ/YHICfAPBLAN4H4PcIIRf0372L\nUvoINKnoY4SQdzv9A4SQjxJCLhFCLm1tbQk6LHHglXqS0vgLWf/CbwxNxcj456sFRwY0fiyDWI+D\ngXn5AT65rWoEo40yfmblZFiojTN+kUtYGJxW9IVd2ME75OeGYFKP9vdz27fL4LVsxooDY/uWWALF\nZDleqac9kLG618MDJ+o419AKv5OzpyvJric7hkohN/K808741wCctfx8Rr/NilUAT1FKO5TSbQDf\nAfAwAFBK1/T/3wTwZWjS0RgopZ+llD5KKX10cXEx2KtIALxSTyshjT+X1bLkvdjcToxTuwzLjSpu\n73Z977fTlmJ19DCcCFj42eU5K0SqSnH3wBzeYlioFQxLKgOLPBY5femUfRM2t73EIQd6oeOxaJ3B\nrpm77dtlYKzYL5O/2R+iWsh6WknDIOOyLtINV/XG7ltOzOD0sTLyWYIb2+Of985A8Zx3ALQrMOvz\nDoZT3NwF8AyA84SQc4SQAoAPA/iK7T5/DuBdhJAcIaQC4B0AXiaEVAkhdQAghFQBvBfAi+IOPzlo\nUg+HnXMgo5hzb/KIhF8WixHQFqPEstKoYLcjOU61MvQkBV1JSUTqWZoxTy58Pv5Rxr/ZGmCo0DHG\n36gVsd0alXri2JlaLuTG7I5hFq0DFqkntJ2TR+oZPXH6MX7e9YtxxDUwOF1VueGV9SYA4IETdWQz\nBPfNV3BjezyzpyvJvtvRrDMMikohKer0Sj2UUhnAxwE8BeBlAF+klF4hhDxBCHlCv8/LAL4O4AUA\nTwP4Q0rpiwCWAPwtIeR5/favUUq/Hs9LiRf1Ug6SovqypyQC2hiKuYynR9vwzsfM+AHg9o4762dM\nORGpZzao1DNauNiC9XHGX0RvqIwN4ABipR5WSK3Fmo35B3X18Ezu/snf3cJrG62x22VFRX+o+lpi\nWXBc167x+/jZ/TL5mz3xcQ3GMeT5g+KurrdQLWQNInBuoYqbbozfx/qqLXrXntdcwjIZVw/XJ4lS\n+iSAJ223fcb28ycBfNJ223Xoks9hhzWvx+uL3urHn9PDoLkE/DX+OKWelQWtCXpzp4MHz8w63sc8\nAcUv9dSLOaOJxlP4jUKkSxSrtuEtBhY1sd2ScF9D+3fj2KBkZdB2dhw4ssFncrc/VPC/fflFvOPc\nPP70f/qpkd+xZje31MM0/oGMfJa4XvFWbPd3Qxw5PQzWAuyHV9ZbuHCibqzWPLdQxXdf24aq0pF1\nmzyMv1zIGiFv7PknsWgdSCd3ucGb18NzeSwK/lKPhEI2E+vx3DevFf5bLqPsgIXxJyD1EEIMnZ/H\nx29v7q7ZhrcY2B6BbYvOH8cGJaeFHd2QGn8xlwEhcF2/yLaV/d2NXVxePRj5XVtiE+jez8n2FlsZ\nv9dxeu0VtuKgF98yo3KBb08BpRRX11t44ETduG1loYqBrOKuvuKToSP5M35rThF7f6dZ408BSya/\nT4OXLVpPAoWc907VHT2nJ86hqUohh6WZIm56ST0JMn7AdPbwhLQZdk7JZPzHKvkx9mYU/pa18MfB\n+Mc18H5IdkiI7h13IQd39JMcAPzH714f+R1PJDODNXGz4+ME4nX1aFJPPN8jXsa/0RzgoDfEW5bM\nwm84e2yWzu6Ag/FbZjQGMciEQZAWfk6wD6GfpbOVpMafz3qu1ttsDXB8Jv5iu9yo+jD++LP4rWAp\nnTwn4GIug2yGmIx/b9zRA5jHbvXyG4VfcDonMGovDSv1AN57d9nVzS9eXMLXLt81fgb4V1ey47L6\n+L2Os5jLIEP8ffTNuJu7HBq/0dg9OWPcdm5x3MtPKUV36O/qsT4vS+mc2uZuCg3mFi4/xs8XFSAC\nJR/Gv9ns43i95Pp7UVhpVHwY/wClfCZU4QqD5UYFtWKO60tFCBkZrHHy8ANm4bdu4mIym0ipp+Qh\n9QTdwAV4r1+8s6/JFf/qA28FAHzuezeM3/Fs32KoFHJGs7YjeTN+7e+d82T8ikrRGsQn9ZTyWfQ4\nppmZldMq9SzVSyjlMyOFvz/UBvn8fPwjzV2D8U9vZEMKmANZflJPO8YPrB1FH41/vdnHidlkGP9W\na+Ca0qnFRhRjz+lh+O2fuR//9WP/gPv5KoUsugMFlFKN8c9Vxu5TzGVRL+VGhrjibu4ysEZomEZg\nKZ9x/Yzc2e9hsV7EuYUqPvDgSXzh6TeMORSeResMmktGj2X22Ldr3L+QHVlIYgc7htgYf9552Y0d\nV9dbWJopYq5iXqlmMgQrjeqI1MMsrH6vm2n8lNLQsxmikBZ+TvBIPZTSZJu7tuwPK/pDBfvdIZYS\nYfza5e8tF9avDW8lI/MAWrF68/Ea//11xrrXHaI3VBylHkDL+9/uWKQevaCK3MBVcbA7diUF2QxB\nPhv8xOkl9dw56OGUfnXz2z9zDq2BjD99RktnCSr1WH38vhZQny1czEAxaVePFtUwM3b7SqOKGxZp\n0y+YznjeQg6UaleKvRhIQxCkhZ8T5XwWuQzxlHp6QwWKShPV+CUXNrfZ1Jip1dceF5Yb3s6enYTi\nGsKiXMiiO5CNHH4nqQfQ5B5rc3cQw5fXbo8EtM9VJZ8NdcVU1PPvnXBnv4fTc9rn46Ezc3js3Dz+\n0/duQlbUQFKPtbmr7dvlb3I6Ia6ANuP5OTR+WVFxbas9IvMwnFus4o3dLmR9l7Hf0JrxvDpB6EpK\nLFeLQZAWfk4QQlAv5TylHmMJS4IDXG5sbqOl6bfW7Jq4wAq/m86vRUMn4+gJg2ohh44kG8NbZ1wY\n/0KtaDSqgbiau+OunjDbtxjcrgoppbiz3zeipwFNIlvb7+HJF9cDuXqszV1tDwKH5OHF+NkSlpi+\nRyWPkyHDzZ0OJFkdcfQwnGtUMVSo0QxnjXierB52/7BOLVFIC38AzJTznlKPmcyZjMbvpd9uNFnh\nT2BoqpTHQq3gyPgppdjuSLHu2o2KSlErRKs8jL896uPPEISSYFyPxUHjD7N9i8HN+bWvy1qnLK/1\nPQ8cx/0LVfzhd6+jLckocEaPaM1d2XKs/NEFTmBX1bOVeL5HlUIWkqIajN0JrxgZPeOF357SybOb\nGNB2LQAaYYgj7iMI0sIfAH7RzKwpVU9I4y/m3Ju7bDjnRAKMH9AavE6phe2BDElWE9X4g6JSyKIj\nKVjb76FSyGLOpeAs1IrY7w4x1AsGW7sosmnNhq76No0/aFwDg5vzyxhUmzM/H5kMwT971zm8sHqA\nb1/d4u5VMemEUqq7evybuzxST2wDXCzKwsMYcXW9hWyGOPaKzi2MevkNxu8bb2Ge1NPJ3UMETepx\nZypmJPPkpZ7N1gCFXCY2ndSO5fmKY3PXjI2YXqmnUsihJyl6Dn/ZtZCzIS72muJYlk0IGVvGouW2\nh/uqujV32fDWKdvVzX/z42dwrJLHK+strgE4wFweY9gaOZq7Xs3VZsyunlJh3DJrxyvrLaw0Ko7v\n70KtgFoxN874OSZ32fPGIRMGQVr4A2CmlDdYvROS1vhL+SxklTpesq4f9HFippSYhXK5UcXdg/5Y\nkdluJzu8FQYa45ddPfwMRl6PLvdoaxfFf4XKNp87Tw6MG0p55zwnt8JfLmTxG+9cBgDfResMrJCb\nFtBgC0nsOOgNkc2Q2OY+eLZwaVEN444eQDs5ryxUcEMnOryMv2RxbPWGCgq5zEjeT5JIC38AzJRz\nnlk97YQ1fhbCJTkU/o1mPxF9n4GFtb1hy+ZnA08LU874u7rU42blBCyxDfrJjEk94o9n1GfejdLc\nzWcdY5nvHPRRyGUc3Va/8VMrKOQyvjk9DMymuKcHkPlHF+Q88/ibPRmz5XxspMUvL6gzkHF7t+uo\n7zOcW6gZUg+L++Bl/H1JQV9SJqbvA2nhD4R6yXsZS1KL1hnM9MXxwr/ZGiTi6GFYNrYTjRZ+Q+qZ\ncsYvySr2u0PH4S0Gtkhmx8L4RS5hsR7PiKtnGL65W8pnMXD4fLCrG6fiulgv4vf+4UV8+Cfv4z5e\nwMwx4nH1dPVBJicc9IaxOXoAoFzQvjductOrG+6NXYZzjQpW97qQZBVdSQEh/rKN9YTTH6oT0/cB\nzljmFBpmSnl0JQWyojpuBgoy9CIC5mq90Q8wpRTrB338wgPHEzkOQIttAMa9/DsJrH+MCmtR9Wb8\no1LPQFZiGbkv2QaMorh6SrkM+rJWZK1F/u5+D6fm3IkBk3t4wArYlv538fXxF7LGIpKiQ7Hc7UiY\nrcT3eXGKxbDCKarBjpWFKlQK3N7tojuQUc5nfWWbsk3qmdTULpAy/kDwm95t9TUPczYh3Y5NjNoZ\nXWsgozdUEpV65ioFzJbzY86e7fYAtWJuYoMqPLB61b00/loxh0IuMyr1xNCcG1vKLYWXlIr5LCgd\nlwPtHv4oMBi//nfhYfyAe+G9ttnGm/QwtDjgp/G/st5CpZDF2WPuV38rFmdPh8PCCpgSWF9v7k7y\nO5EW/gDwy+tpJ7iEBYDBluwa7sZBcsNbVqw0xp09u3o09DTDyqbdhrcAram3aFm6rkk94r9C1sLP\nkh+jSD3AqBw4VFRstPpjjd2wMAu/zvg54okBZ439oDvEerPvODglCvY9wXa8st7EhaW6J4O/f8Fc\nvN7lsLACo697kovWAc7CTwh5PyHkKiHkGiHkEy73+TlCyHOEkCuEkG8HeexhAdMdXRn/YJiYowcw\nk/3sjH+DxTUkXPidvPxJ5/SEAStUhWwGiz4L4bUhrngZf7mQM5q7kqJCUWloVw/rA1m9/OsHfVA6\n6uGPgrKeGmpo/Bw+fsC58L+6qcksF2Is/Czl1OmKw2n5ihPmKgXMVfK4vt1BZ8DH+LMZbTNZb6jo\ni9anuLlLCMkC+DSAxwFcBPARQshF233mAPwHAL9MKX0bgF/jfexhgrF+0WWIK8ksfsBk/PYhrvVm\nssNbDCuNCtb2eiP5QdvtQWILWMKCMdaTcyVfnXahVjSbuzFp/FYff9QURyfG72blDAs74/drWrIi\n6VR4mb5+wafwRkHJo7m71Rpgrzv0bOwysJTOruQfU8HAkkEPg8b/GIBrlNLrlFIJwBcAfMh2n38C\n4M8opbcBgFK6GeCxhwasqLtJPa1+csmcgMn47VqlGdeQPONXKbC6Z8o9ux1pqhu7gFm4vPR9hka1\nMOrjj+HLaw0RM9YuhpZ69M+IRQ68cxBX4Wcav/8AFwDH2IZXN1qoFXM4FWO4oJfG7xXVYMf9C1VT\n4+f83jMZrzcMb9EVAZ7CfxrAG5afV/XbrLgA4Bgh5G8IIc8SQn4zwGMPDdgk4ZYlodGKJLP4AXfG\nv9nsY6aUS/yDxbz8TOdXVaoV/kMi9fAU/oV6ETttCZTSWH38zO7IWGl4V894kWMLWE4Jau6yv4HB\n+H3+JlZ3ix1X11u4sFSLdfDQy9VjOnqch7esWFmo4s5BH7udAT/j14fd4pIJeSHqOjUH4CcA/BKA\n9wH4PULIhSD/ACHko4SQS4SQS1tbW4IOSyxOz5Vxeq6Mv3pl0/H3Se7bBaw+/tEP8HqznzjbB6xe\nfk3nb/aHkFVq+N+nFQbj92jsMjSqBcgqxUFviEGMzV1FpRgq0Rd2OEk9a/s9zFcLwogB+/vttCVU\nCv62RjdXD6UUr260uNh2FOSzGeSzZOTEc9Ab4j997wY+9/2bOF4vchkSmLPnjd0edw9Gk3r0wj/l\nPv41AGctP5/Rb7NiFcAOpbQDoEMI+Q6Ah/Xb/R4LAKCUfhbAZwHg0UcfdZ7smDAIIfjAgyfwue/f\nxIHDTtB2whq/6eMfb+5OovA3qlqGCWP8h8HDDwDHZ4r4ieVj+JnzC773XaxrJ7HN1gCSosbW3AW0\nwmju2w0f2QCMznr4efiDgh2bpKiYKfuf5Flz1d7c3W5L2OsOcf54vIUf0GclJAWXVw/wxz+8ha88\nfwe9oYKHz87hd9/7Fq5/gzl7AP+GNkPFYPzxfHZ4wfNpegbAeULIOWhF+8PQNH0r/hzApwghOQAF\nAO8A8O8AvMLx2EOFDzx4Ev/xuzfwly9t4L/9iTPG7YpK0ZGURF09hmPDbuds9vGmN/kXMdEghGC5\nUTEY/84hyOkBNMnsS//zT3Pdl8U2sHTLuKQeAOgOZUMHjxLZANibu33c13D3qAd/Di1RlFK+Aui0\nbAbgm5gVhXI+i88/fRuf+/5NlPNZ/KMfO4Vff8cy3n56lvvfWLEUft4TcymfRauvN3cLk3P1+B4t\npVQmhHwcwFMAsgD+H0rpFULIE/rvP0MpfZkQ8nUALwBQAfwhpfRFAHB6bEyvJRE8cnYOp+fK+NoL\nd0YKv5nMOQEfv+VLrapUj2uYjLyy0qjipbtNAGa0wbS7eoKAncRYdn8srh6L3dFY2BFa6hmXA+/s\n9/BTb2pEPEoThBBjqxbfIJOzndNw9MRo5WR46Mwsbu928evvWMav/PjpUL25WjGHBX2ug7cHUylk\nsbbfg6LSqWf8oJQ+CeBJ222fsf38SQCf5HnsYYab3JN0Fj9gmdy1MP6djgRFpTiRwMpFJyw3Knjq\nyjpkRTWlniln/EFgMP69+Bh/2dJ8NKWekJO7tuZusz9EayALlXoA063C0+R0G+B6daOF+WohkaU9\nf/jf/6SQf+fcQiVQ4S/ns9jTvxfT7upJYcMHHjyJoULxly9tGLcZOT2TkHosjJ9ZOY8nsGTdCSuN\nKmRVW+vHpJ5jMeauJI1jlQIyxLSsxsH4rQNOUQu/IfXofSDRHn4Gdsw8tsZMhqCUz4z56K9uxO/o\nEQ22lIVnRSWg9W/29TmgqZ/cTTEKJvc8efmucZsZyZxc4SdEmwS0erRZ4Z8k4weAW7sd7HQGmC3n\nudb3HRZkMwTz1YIp9cSU1QNoPvdeRB+/meek/TtxFX7WsOW1NdrXL1JK8dpGOxGZRySYzh9E6mGh\npGnhP2QghODxt5/Ad1/bMtbEGUtYEpR6ALZaz2T86wnu2nWCNZ555xAMb4VBo1qMtblbzo+7ekJr\n/DapZ0338PPMLASBwfgD2RotDeeDPtoD+dAV/nP6591vaI3B+j5O++RuCgd84CFN7vmmLve0JtDc\nBbT0Raudc6M5ACGmFp00jteLKOUzuLXdwU57cE/p+wwL9YIxxBeXjx8ww7wK2YxjDDgP8lmCDDEN\nAHf2e8hniW8mUVCwYw5mazQZ/6sBJmanCe+4v4GfvbCIh87wuYGsV25TndWTwhk/dnYOp2ZLhtxj\nNHcTlHoA7cNjDeDabPaxUCsiH7JQREUmQ7A8X9UYf1u6pxw9DNbXFK+dU0FPkiM1AQkhI3t37+73\ncGLWP5MoKCoBGb89evqqbuW8kICHXyTmqwX80T97DMc552ZSxn/IQQjB4w+exHdf20azP5yIxg9o\nrg0r419PeOWiE5YbFdza6WiRzPci47ew5XgGuEyfe5QlLAzW9Ysic/itYENnQaILrIX/1fUWTsyU\nMFtJ9oo5aVjfyzi2t/EiLfwR8IEHT0JSVHzzpQ20+jKyGZL4WbyYy4zYOTeag8RTOe1YWaji1m4X\nu10JC/eixm85mcXj42cav4qugDAvax/Ib6F8WFTy/K4eQHuN1siGVzdbOL9UE35c0wbre5ky/kOK\nHzs7h5O63NMeaMmcSVvRtMv4UTsn72VnXFhuVCDJKijF1Of0hIFVH49D6mG57d2hjL4UPb5XY/xa\nrv96sy/cww+YBS1IPDFz9Siq5uiJc/nKtGBE6kl9/IcTmQzBBx48ie+8uo07+73EHT3AKOMfyAp2\nO9LkGX/DHGWf9u1bYbBQtzL+eL68FT2aWYTUU9Q1/s1WH4pKhVs5AYvGz+1nN6Onb+92MZDVWDP4\npwXWHkja3D3EYHLP31zdSlzfB7TCzxj/prF5a/IaP8O96OoZbe7G8xViy1g0qSfa56qUz6A/VGLz\n8AMWV08APztLx2RRDUeC8VvyeVKp5xCDyT2Sok6k8JfyWYPxb7Yms4DFjpOzZRR0V9GkbKVxYqEe\nb3MXMBlxT5IN/TwsirrGH5eHHzCbu7zyhbW5y8LZjoTGn7cy/rTwH1pkMgSPv/0kgOQ9/ACTejTG\nP6ldu3ZkMwRn57Xici9KPWworZDNCLdFMmiFUayr567O+E/GMNVtMn7O5m4+B0nvO1zdaOHsfDl0\n9PRhwoirZ4IT7WnhF4BfeugEgOSndgHNzsk82usH/397dxdjxV3Gcfz7O2/7woLlZXdBloWWbBRq\nWqoEG6WG1hSxkmJS06Ax6R2RqMHExqAXVk164YXGi5JUosQmWpsmSiUGNbQ2aa8UWqlAS1NCKLCt\nuy3Ie7fA8ngxM8uwXelhz8zOOTPPJ9nsmTm7J/8ncJ79n+f/n2eaY8YPQZ1fylefnkh7tcz0tkoq\nF29FOquVse6cjd6woz38P/LWqfeY0V5JZYISfbKrt7QXb0vxxtDZQpR54Oonoo5qOdOeRJ74E3DH\ngpkM9HSNNWyaSu3V2Iz/7Ai1comZTbAXevmiWSyZO4NySjPirM3uqqX6UT26Rd+Fi6MNl3qCGn9Q\n6kmjvg/w+Y/38JdNd9E3s74+/1ECPDNymcPvnG+5Vg2TFcWd5cIu1NmW2V1fqSR2brqLSgZJrq1a\nHtujPXR6hJ4ZbU3R3XDjqsVsXLU462GkZk5XG6PhmkoaOmtljv83uGFHIqWecMafVuIvlcSSeR9+\nn9pIFNP+wdNcvmIt16phsqIF3SwXdsFn/ImplkuZJNy2sDunmTXFxVtF0T+7M9WF645amVMXLmFG\nArt6gqu73zqd7C0XGxEl/r3HTgFTc/OVZhDd7zfLhV3wGX/La68GbV4vjRpDZ0dYMrf+WZebvB/d\nf+s1XVGT1lkrc/JCeMOOBssCbdUSZ0cuccXS2co5GdEfs71HT1EuiVu6p75MmpWOajnzxF/X/yhJ\nayS9LumQpM0TPL9K0mlJe8OvH8aeOyJpX3h+T5KDd9fed3fo9EhTLOwWwYz26tiN19PQWauM9W1v\ndLdLe6XMlfC10tjKORnRjH/f4GkWze4cu1NYEXTUys1f45dUBrYA9wLHgd2SdpjZq+N+9EUzW/t/\nXuZuM3u3saG6iUSNnk6cu8j5i6OZX7zlkpHkpf3x2WXTzPjDMZ17/zKfmzsn49FMrc5aJdN2DVDf\njH8FcMjMDpvZReApYF26w3L1imb8b54MbgXoM/58iC/oNtyyIbZfvFkSfzymotT3I3O6apm3K6/n\nM+R84Fjs+Djw6Ql+7jOS/g0MAg+b2YHwvAHPShoFfmlmWxsZsLtW9KY+6ok/V+KJMakZf0nQm2J5\n6kbEy1dF2cMf2fK1T076xjpJSWpx92Wg38zOSboPeAYYCJ9baWaDknqAXZIOmtkL419A0gZgA0B/\nf39Cw8q/6E199MR5IPs+PS4Z8Z08jXfnDJJM74z2zBNOJP7HrAjN2eKy7p4L9ZV6BoEFseO+8NwY\nMztjZufCxzuBqqQ54fFg+H0Y2E5QOvoAM9tqZsvNbHl3d/cNB1JUY6WeEz7jz5NrSz2Nb+eE5inz\nwNX4auUSC2fVd9GXS049iX83MCDpZkk1YD2wI/4DkuYq3MQuaUX4uickTZM0PTw/DVgN7E8ygKKL\ndkMcPXmB6W0VpmXQNsIlLz7Lb/wCruBt3kyJP9rPvrinq2k+hRTJh2YJM7ss6VvA34AysM3MDkj6\nRvj848BXgI2SLgPvAevNzCT1AtvDvwkV4Ekz+2tKsRRS9KY+evJCU72xXWM6kqzxV6IZf3N9GpzW\nVuFjBejI2Yzqmh6G5Zud4849Hnv8GPDYBL93GLi9wTG664hm/Bd8K2euXLO422hb5vD3m2UPf+Sn\nD9zG4m5P/FnwukCLi3eI7J3eXDM6N3lJJv55H2mnUhJLb6CXzlT4wq1zsx5CYXnib3Hxi3N6Ac2P\nVQAABFZJREFUU+iz7rIR7epprzbe8/+jN3XwyiOrff3HjfFVlRYXvzinWfZou8ZFrZiTujmJJ30X\n54m/xcUT/1yf8edG/IYdziXNE3+Li5d6muHCEJeMtkqJkhrf0ePcRDzxt7hKSUQlYO/Fnx+S6KxV\nGt7D79xEPPG3OOnqTR3SbBPspl5HreylHpcKX/HJgbZKic5amapfAZkrnbWyz/hdKjzx50Bbpczs\nrlrWw3AJW75wFv3ex8alwBN/DrRXS96cLYd+9qBf9O7S4Yk/B759z4Bv5XTO1c0Tfw488Km+rIfg\nnGshvhronHMF44nfOecKxhO/c84VjCd+55wrGE/8zjlXMJ74nXOuYDzxO+dcwXjid865gpGZZT2G\nD5D0DvDmJH99DvBugsNpFR53sXjcxVJP3AvNrLueF2vKxN8ISXvMbHnW45hqHnexeNzFknTcXupx\nzrmC8cTvnHMFk8fEvzXrAWTE4y4Wj7tYEo07dzV+55xz15fHGb9zzrnryE3il7RG0uuSDknanPV4\n0iRpm6RhSftj52ZJ2iXpjfD7zCzHmDRJCyQ9L+lVSQckbQrP5z3udkn/lPRKGPePw/O5jjsiqSzp\nX5L+HB4XJe4jkvZJ2itpT3gusdhzkfgllYEtwBeBpcBXJS3NdlSp+g2wZty5zcBzZjYAPBce58ll\n4LtmthS4E/hm+G+c97jfB+4xs9uBZcAaSXeS/7gjm4DXYsdFiRvgbjNbFtvGmVjsuUj8wArgkJkd\nNrOLwFPAuozHlBozewE4Oe70OuCJ8PETwJendFApM7O3zezl8PFZgmQwn/zHbWZ2Ljyshl9GzuMG\nkNQHfAn4Vex07uO+jsRiz0vinw8cix0fD88VSa+ZvR0+/g/Qm+Vg0iRpEXAH8A8KEHdY7tgLDAO7\nzKwQcQO/AL4HXImdK0LcEPxxf1bSS5I2hOcSi93vuZtDZmaScrldS1IX8AfgO2Z2RtLYc3mN28xG\ngWWSbgK2S/rEuOdzF7ektcCwmb0kadVEP5PHuGNWmtmgpB5gl6SD8ScbjT0vM/5BYEHsuC88VyRD\nkuYBhN+HMx5P4iRVCZL+78zsj+Hp3McdMbNTwPME6zt5j/uzwP2SjhCUbu+R9FvyHzcAZjYYfh8G\nthOUsxOLPS+JfzcwIOlmSTVgPbAj4zFNtR3AQ+Hjh4A/ZTiWxCmY2v8aeM3Mfh57Ku9xd4czfSR1\nAPcCB8l53Gb2fTPrM7NFBO/nv5vZ18l53ACSpkmaHj0GVgP7STD23FzAJek+gppgGdhmZo9mPKTU\nSPo9sIqgY98Q8AjwDPA00E/Q2fRBMxu/ANyyJK0EXgT2cbXm+wOCOn+e476NYCGvTDBRe9rMfiJp\nNjmOOy4s9TxsZmuLELekWwhm+RCU4580s0eTjD03id8551x98lLqcc45VydP/M45VzCe+J1zrmA8\n8TvnXMF44nfOuYLxxO+ccwXjid855wrGE79zzhXM/wCgyUiQsjZYigAAAABJRU5ErkJggg==\n",
      "text/plain": [
       "<matplotlib.figure.Figure at 0x7fc96acb5390>"
      ]
     },
     "metadata": {},
     "output_type": "display_data"
    }
   ],
   "source": [
    "%matplotlib inline \n",
    "\n",
    "import matplotlib.pyplot as plt\n",
    "piiTableDb2\n",
    "plt.plot(range(0,50), piiTableDb2.limit(1000).select(\"activityscore\").toPandas().sample(50))"
   ]
  },
  {
   "cell_type": "markdown",
   "metadata": {},
   "source": [
    "Lets get a sense for the interests of our users "
   ]
  },
  {
   "cell_type": "code",
   "execution_count": 11,
   "metadata": {
    "collapsed": false
   },
   "outputs": [
    {
     "data": {
      "image/png": "iVBORw0KGgoAAAANSUhEUgAAA3EAAAHFCAYAAABcsHAGAAAABHNCSVQICAgIfAhkiAAAAAlwSFlz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\nAAAAAElFTkSuQmCC\n",
      "text/plain": [
       "<matplotlib.figure.Figure at 0x7fc96a9eae50>"
      ]
     },
     "metadata": {},
     "output_type": "display_data"
    }
   ],
   "source": [
    "from wordcloud import WordCloud, STOPWORDS\n",
    "\n",
    "wordlist = interestTableDb2.select(\"Interest1\", \"interest2\", \"interest3\").limit(1000).rdd.map(lambda x: x[0]).collect()\n",
    "wordcloud = WordCloud(stopwords=STOPWORDS, background_color='white').generate(\" \".join(wordlist))\n",
    "plt.figure(figsize=(15,10))\n",
    "plt.imshow(wordcloud)\n",
    "plt.axis('off')\n",
    "plt.show()"
   ]
  },
  {
   "cell_type": "markdown",
   "metadata": {},
   "source": [
    "<a id=\"start-machine-learning\"></a>\n",
    "## 3. Prepare for Creation of Machine Learning Models"
   ]
  },
  {
   "cell_type": "markdown",
   "metadata": {},
   "source": [
    "We now load up all of the data required to create our machine learning models into a single data frame"
   ]
  },
  {
   "cell_type": "code",
   "execution_count": 12,
   "metadata": {
    "collapsed": false
   },
   "outputs": [],
   "source": [
    "learn_df_all = eventSession.sql(\"select cast(age as double), Occupation, ActivityScore, interest1, interest2, interest3, cast(AddPicture as double), Discount, Background from interestTableDb2, piiTableDb2, purchaseTableDb2 \" \n",
    "                           \"where interestTableDb2.userId = purchaseTableDb2.userId and interestTableDb2.userId = piiTableDb2.userId \")\n",
    "learn_df_all.cache()\n",
    "\n",
    "learn_pandas= learn_df_all.limit(100).toPandas().sample(10)"
   ]
  },
  {
   "cell_type": "markdown",
   "metadata": {},
   "source": [
    "Lets see some of our learning data"
   ]
  },
  {
   "cell_type": "code",
   "execution_count": 13,
   "metadata": {
    "collapsed": false
   },
   "outputs": [
    {
     "data": {
      "text/html": [
       "<div>\n",
       "<style>\n",
       "    .dataframe thead tr:only-child th {\n",
       "        text-align: right;\n",
       "    }\n",
       "\n",
       "    .dataframe thead th {\n",
       "        text-align: left;\n",
       "    }\n",
       "\n",
       "    .dataframe tbody tr th {\n",
       "        vertical-align: top;\n",
       "    }\n",
       "</style>\n",
       "<table border=\"1\" class=\"dataframe\">\n",
       "  <thead>\n",
       "    <tr style=\"text-align: right;\">\n",
       "      <th></th>\n",
       "      <th>age</th>\n",
       "      <th>Occupation</th>\n",
       "      <th>ActivityScore</th>\n",
       "      <th>interest1</th>\n",
       "      <th>interest2</th>\n",
       "      <th>interest3</th>\n",
       "      <th>AddPicture</th>\n",
       "      <th>Discount</th>\n",
       "      <th>Background</th>\n",
       "    </tr>\n",
       "  </thead>\n",
       "  <tbody>\n",
       "    <tr>\n",
       "      <th>98</th>\n",
       "      <td>62.0</td>\n",
       "      <td>retired</td>\n",
       "      <td>0.614755</td>\n",
       "      <td>Architecture</td>\n",
       "      <td>Walking</td>\n",
       "      <td>Travel</td>\n",
       "      <td>3.0</td>\n",
       "      <td>25% Senior Discount</td>\n",
       "      <td>Light Blue</td>\n",
       "    </tr>\n",
       "    <tr>\n",
       "      <th>11</th>\n",
       "      <td>62.0</td>\n",
       "      <td>retired</td>\n",
       "      <td>0.695938</td>\n",
       "      <td>Architecture</td>\n",
       "      <td>Walking</td>\n",
       "      <td>Travel</td>\n",
       "      <td>3.0</td>\n",
       "      <td>25% Senior Discount</td>\n",
       "      <td>Light Blue</td>\n",
       "    </tr>\n",
       "    <tr>\n",
       "      <th>63</th>\n",
       "      <td>62.0</td>\n",
       "      <td>retired</td>\n",
       "      <td>0.680956</td>\n",
       "      <td>Architecture</td>\n",
       "      <td>Walking</td>\n",
       "      <td>Travel</td>\n",
       "      <td>3.0</td>\n",
       "      <td>25% Senior Discount</td>\n",
       "      <td>Light Blue</td>\n",
       "    </tr>\n",
       "    <tr>\n",
       "      <th>7</th>\n",
       "      <td>22.0</td>\n",
       "      <td>Student</td>\n",
       "      <td>0.594586</td>\n",
       "      <td>Museum</td>\n",
       "      <td>Music</td>\n",
       "      <td>History</td>\n",
       "      <td>2.0</td>\n",
       "      <td>15% Student Discount</td>\n",
       "      <td>Red</td>\n",
       "    </tr>\n",
       "    <tr>\n",
       "      <th>79</th>\n",
       "      <td>62.0</td>\n",
       "      <td>Retired</td>\n",
       "      <td>0.733451</td>\n",
       "      <td>World Record Breaking</td>\n",
       "      <td>Amateur Radio</td>\n",
       "      <td>Archery</td>\n",
       "      <td>1.0</td>\n",
       "      <td>5% Email Registration Discount</td>\n",
       "      <td>Light Blue</td>\n",
       "    </tr>\n",
       "    <tr>\n",
       "      <th>80</th>\n",
       "      <td>22.0</td>\n",
       "      <td>Student</td>\n",
       "      <td>0.572702</td>\n",
       "      <td>Museum</td>\n",
       "      <td>Music</td>\n",
       "      <td>History</td>\n",
       "      <td>2.0</td>\n",
       "      <td>15% Student Discount</td>\n",
       "      <td>Red</td>\n",
       "    </tr>\n",
       "    <tr>\n",
       "      <th>9</th>\n",
       "      <td>62.0</td>\n",
       "      <td>retired</td>\n",
       "      <td>0.750847</td>\n",
       "      <td>Architecture</td>\n",
       "      <td>Walking</td>\n",
       "      <td>Travel</td>\n",
       "      <td>3.0</td>\n",
       "      <td>25% Senior Discount</td>\n",
       "      <td>Light Blue</td>\n",
       "    </tr>\n",
       "    <tr>\n",
       "      <th>75</th>\n",
       "      <td>45.0</td>\n",
       "      <td>accountant</td>\n",
       "      <td>0.593333</td>\n",
       "      <td>Family</td>\n",
       "      <td>Travel</td>\n",
       "      <td>New York</td>\n",
       "      <td>1.0</td>\n",
       "      <td>10% Family Discount</td>\n",
       "      <td>Blue</td>\n",
       "    </tr>\n",
       "    <tr>\n",
       "      <th>30</th>\n",
       "      <td>22.0</td>\n",
       "      <td>Student</td>\n",
       "      <td>0.555427</td>\n",
       "      <td>Museum</td>\n",
       "      <td>Music</td>\n",
       "      <td>History</td>\n",
       "      <td>2.0</td>\n",
       "      <td>15% Student Discount</td>\n",
       "      <td>Red</td>\n",
       "    </tr>\n",
       "    <tr>\n",
       "      <th>69</th>\n",
       "      <td>62.0</td>\n",
       "      <td>retired</td>\n",
       "      <td>0.694971</td>\n",
       "      <td>Architecture</td>\n",
       "      <td>Walking</td>\n",
       "      <td>Travel</td>\n",
       "      <td>3.0</td>\n",
       "      <td>25% Senior Discount</td>\n",
       "      <td>Light Blue</td>\n",
       "    </tr>\n",
       "  </tbody>\n",
       "</table>\n",
       "</div>"
      ],
      "text/plain": [
       "     age  Occupation  ActivityScore              interest1      interest2  \\\n",
       "98  62.0     retired       0.614755           Architecture        Walking   \n",
       "11  62.0     retired       0.695938           Architecture        Walking   \n",
       "63  62.0     retired       0.680956           Architecture        Walking   \n",
       "7   22.0     Student       0.594586                 Museum          Music   \n",
       "79  62.0     Retired       0.733451  World Record Breaking  Amateur Radio   \n",
       "80  22.0     Student       0.572702                 Museum          Music   \n",
       "9   62.0     retired       0.750847           Architecture        Walking   \n",
       "75  45.0  accountant       0.593333                 Family         Travel   \n",
       "30  22.0     Student       0.555427                 Museum          Music   \n",
       "69  62.0     retired       0.694971           Architecture        Walking   \n",
       "\n",
       "   interest3  AddPicture                        Discount  Background  \n",
       "98    Travel         3.0             25% Senior Discount  Light Blue  \n",
       "11    Travel         3.0             25% Senior Discount  Light Blue  \n",
       "63    Travel         3.0             25% Senior Discount  Light Blue  \n",
       "7    History         2.0            15% Student Discount         Red  \n",
       "79   Archery         1.0  5% Email Registration Discount  Light Blue  \n",
       "80   History         2.0            15% Student Discount         Red  \n",
       "9     Travel         3.0             25% Senior Discount  Light Blue  \n",
       "75  New York         1.0             10% Family Discount        Blue  \n",
       "30   History         2.0            15% Student Discount         Red  \n",
       "69    Travel         3.0             25% Senior Discount  Light Blue  "
      ]
     },
     "execution_count": 13,
     "metadata": {},
     "output_type": "execute_result"
    }
   ],
   "source": [
    "learn_pandas"
   ]
  },
  {
   "cell_type": "markdown",
   "metadata": {},
   "source": [
    "Let us get a sense for the common occupations"
   ]
  },
  {
   "cell_type": "code",
   "execution_count": 14,
   "metadata": {
    "collapsed": false,
    "scrolled": true
   },
   "outputs": [
    {
     "data": {
      "image/png": "iVBORw0KGgoAAAANSUhEUgAAA3EAAAHFCAYAAABcsHAGAAAABHNCSVQICAgIfAhkiAAAAAlwSFlz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\nrkJggg==\n",
      "text/plain": [
       "<matplotlib.figure.Figure at 0x7fc96a95a950>"
      ]
     },
     "metadata": {},
     "output_type": "display_data"
    }
   ],
   "source": [
    "from wordcloud import WordCloud, STOPWORDS\n",
    "\n",
    "wordlist = learn_df_all.select(\"occupation\").limit(100).rdd.map(lambda x: x[0]).collect()\n",
    "wordcloud = WordCloud(stopwords=STOPWORDS, background_color='white').generate(\" \".join(wordlist))\n",
    "plt.figure(figsize=(15,10))\n",
    "plt.imshow(wordcloud)\n",
    "plt.axis('off')\n",
    "plt.show()"
   ]
  },
  {
   "cell_type": "markdown",
   "metadata": {},
   "source": [
    "Let us now build a seperate data frame for each of our learning objectives. We are trying to learn 3 things for our model. \n",
    "\n",
    "1. Learn which picture is most successful given certain interests/occupation etc...  \n",
    "2. Learn which background is most successful for a certain person\n",
    "3. Learn which discount is most successful for a particular person"
   ]
  },
  {
   "cell_type": "code",
   "execution_count": 15,
   "metadata": {
    "collapsed": false
   },
   "outputs": [],
   "source": [
    "learn_df_picture = learn_df_all.select(\"age\", \"Occupation\", \"ActivityScore\", \"interest1\", \"interest2\", \"interest3\", \"AddPicture\")\n",
    "learn_df_background = learn_df_all.select(\"age\", \"Occupation\", \"ActivityScore\", \"interest1\", \"interest2\", \"interest3\", \"Background\")\n",
    "learn_df_discount = learn_df_all.select(\"age\", \"Occupation\", \"ActivityScore\", \"interest1\", \"interest2\", \"interest3\", \"Discount\")"
   ]
  },
  {
   "cell_type": "code",
   "execution_count": 16,
   "metadata": {
    "collapsed": false
   },
   "outputs": [
    {
     "data": {
      "text/html": [
       "<div>\n",
       "<style>\n",
       "    .dataframe thead tr:only-child th {\n",
       "        text-align: right;\n",
       "    }\n",
       "\n",
       "    .dataframe thead th {\n",
       "        text-align: left;\n",
       "    }\n",
       "\n",
       "    .dataframe tbody tr th {\n",
       "        vertical-align: top;\n",
       "    }\n",
       "</style>\n",
       "<table border=\"1\" class=\"dataframe\">\n",
       "  <thead>\n",
       "    <tr style=\"text-align: right;\">\n",
       "      <th></th>\n",
       "      <th>age</th>\n",
       "      <th>Occupation</th>\n",
       "      <th>ActivityScore</th>\n",
       "      <th>interest1</th>\n",
       "      <th>interest2</th>\n",
       "      <th>interest3</th>\n",
       "      <th>AddPicture</th>\n",
       "    </tr>\n",
       "  </thead>\n",
       "  <tbody>\n",
       "    <tr>\n",
       "      <th>0</th>\n",
       "      <td>45.0</td>\n",
       "      <td>accountant</td>\n",
       "      <td>0.859248</td>\n",
       "      <td>Family</td>\n",
       "      <td>Travel</td>\n",
       "      <td>New York</td>\n",
       "      <td>1.0</td>\n",
       "    </tr>\n",
       "    <tr>\n",
       "      <th>1</th>\n",
       "      <td>22.0</td>\n",
       "      <td>Student</td>\n",
       "      <td>0.557470</td>\n",
       "      <td>Museum</td>\n",
       "      <td>Music</td>\n",
       "      <td>History</td>\n",
       "      <td>2.0</td>\n",
       "    </tr>\n",
       "    <tr>\n",
       "      <th>2</th>\n",
       "      <td>22.0</td>\n",
       "      <td>Student</td>\n",
       "      <td>0.821911</td>\n",
       "      <td>Museum</td>\n",
       "      <td>Music</td>\n",
       "      <td>History</td>\n",
       "      <td>2.0</td>\n",
       "    </tr>\n",
       "    <tr>\n",
       "      <th>3</th>\n",
       "      <td>22.0</td>\n",
       "      <td>Student</td>\n",
       "      <td>0.709252</td>\n",
       "      <td>Museum</td>\n",
       "      <td>Music</td>\n",
       "      <td>History</td>\n",
       "      <td>2.0</td>\n",
       "    </tr>\n",
       "    <tr>\n",
       "      <th>4</th>\n",
       "      <td>62.0</td>\n",
       "      <td>retired</td>\n",
       "      <td>0.610038</td>\n",
       "      <td>Architecture</td>\n",
       "      <td>Walking</td>\n",
       "      <td>Travel</td>\n",
       "      <td>3.0</td>\n",
       "    </tr>\n",
       "    <tr>\n",
       "      <th>5</th>\n",
       "      <td>62.0</td>\n",
       "      <td>Software Developer</td>\n",
       "      <td>0.654317</td>\n",
       "      <td>Ziplining</td>\n",
       "      <td>Archery</td>\n",
       "      <td>Astrology</td>\n",
       "      <td>2.0</td>\n",
       "    </tr>\n",
       "    <tr>\n",
       "      <th>6</th>\n",
       "      <td>45.0</td>\n",
       "      <td>accountant</td>\n",
       "      <td>0.802001</td>\n",
       "      <td>Family</td>\n",
       "      <td>Travel</td>\n",
       "      <td>New York</td>\n",
       "      <td>1.0</td>\n",
       "    </tr>\n",
       "    <tr>\n",
       "      <th>7</th>\n",
       "      <td>22.0</td>\n",
       "      <td>Student</td>\n",
       "      <td>0.594586</td>\n",
       "      <td>Museum</td>\n",
       "      <td>Music</td>\n",
       "      <td>History</td>\n",
       "      <td>2.0</td>\n",
       "    </tr>\n",
       "    <tr>\n",
       "      <th>8</th>\n",
       "      <td>22.0</td>\n",
       "      <td>Student</td>\n",
       "      <td>0.793715</td>\n",
       "      <td>Museum</td>\n",
       "      <td>Music</td>\n",
       "      <td>History</td>\n",
       "      <td>2.0</td>\n",
       "    </tr>\n",
       "    <tr>\n",
       "      <th>9</th>\n",
       "      <td>62.0</td>\n",
       "      <td>retired</td>\n",
       "      <td>0.750847</td>\n",
       "      <td>Architecture</td>\n",
       "      <td>Walking</td>\n",
       "      <td>Travel</td>\n",
       "      <td>3.0</td>\n",
       "    </tr>\n",
       "  </tbody>\n",
       "</table>\n",
       "</div>"
      ],
      "text/plain": [
       "    age          Occupation  ActivityScore     interest1 interest2  interest3  \\\n",
       "0  45.0          accountant       0.859248        Family    Travel   New York   \n",
       "1  22.0             Student       0.557470        Museum     Music    History   \n",
       "2  22.0             Student       0.821911        Museum     Music    History   \n",
       "3  22.0             Student       0.709252        Museum     Music    History   \n",
       "4  62.0             retired       0.610038  Architecture   Walking     Travel   \n",
       "5  62.0  Software Developer       0.654317     Ziplining   Archery  Astrology   \n",
       "6  45.0          accountant       0.802001        Family    Travel   New York   \n",
       "7  22.0             Student       0.594586        Museum     Music    History   \n",
       "8  22.0             Student       0.793715        Museum     Music    History   \n",
       "9  62.0             retired       0.750847  Architecture   Walking     Travel   \n",
       "\n",
       "   AddPicture  \n",
       "0         1.0  \n",
       "1         2.0  \n",
       "2         2.0  \n",
       "3         2.0  \n",
       "4         3.0  \n",
       "5         2.0  \n",
       "6         1.0  \n",
       "7         2.0  \n",
       "8         2.0  \n",
       "9         3.0  "
      ]
     },
     "execution_count": 16,
     "metadata": {},
     "output_type": "execute_result"
    }
   ],
   "source": [
    "learn_df_picture.limit(10).toPandas()"
   ]
  },
  {
   "cell_type": "code",
   "execution_count": 17,
   "metadata": {
    "collapsed": false
   },
   "outputs": [
    {
     "data": {
      "text/html": [
       "<div>\n",
       "<style>\n",
       "    .dataframe thead tr:only-child th {\n",
       "        text-align: right;\n",
       "    }\n",
       "\n",
       "    .dataframe thead th {\n",
       "        text-align: left;\n",
       "    }\n",
       "\n",
       "    .dataframe tbody tr th {\n",
       "        vertical-align: top;\n",
       "    }\n",
       "</style>\n",
       "<table border=\"1\" class=\"dataframe\">\n",
       "  <thead>\n",
       "    <tr style=\"text-align: right;\">\n",
       "      <th></th>\n",
       "      <th>age</th>\n",
       "      <th>Occupation</th>\n",
       "      <th>ActivityScore</th>\n",
       "      <th>interest1</th>\n",
       "      <th>interest2</th>\n",
       "      <th>interest3</th>\n",
       "      <th>Background</th>\n",
       "    </tr>\n",
       "  </thead>\n",
       "  <tbody>\n",
       "    <tr>\n",
       "      <th>0</th>\n",
       "      <td>45.0</td>\n",
       "      <td>accountant</td>\n",
       "      <td>0.859248</td>\n",
       "      <td>Family</td>\n",
       "      <td>Travel</td>\n",
       "      <td>New York</td>\n",
       "      <td>Blue</td>\n",
       "    </tr>\n",
       "    <tr>\n",
       "      <th>1</th>\n",
       "      <td>22.0</td>\n",
       "      <td>Student</td>\n",
       "      <td>0.557470</td>\n",
       "      <td>Museum</td>\n",
       "      <td>Music</td>\n",
       "      <td>History</td>\n",
       "      <td>Red</td>\n",
       "    </tr>\n",
       "    <tr>\n",
       "      <th>2</th>\n",
       "      <td>22.0</td>\n",
       "      <td>Student</td>\n",
       "      <td>0.821911</td>\n",
       "      <td>Museum</td>\n",
       "      <td>Music</td>\n",
       "      <td>History</td>\n",
       "      <td>Red</td>\n",
       "    </tr>\n",
       "    <tr>\n",
       "      <th>3</th>\n",
       "      <td>22.0</td>\n",
       "      <td>Student</td>\n",
       "      <td>0.709252</td>\n",
       "      <td>Museum</td>\n",
       "      <td>Music</td>\n",
       "      <td>History</td>\n",
       "      <td>Red</td>\n",
       "    </tr>\n",
       "    <tr>\n",
       "      <th>4</th>\n",
       "      <td>62.0</td>\n",
       "      <td>retired</td>\n",
       "      <td>0.610038</td>\n",
       "      <td>Architecture</td>\n",
       "      <td>Walking</td>\n",
       "      <td>Travel</td>\n",
       "      <td>Light Blue</td>\n",
       "    </tr>\n",
       "    <tr>\n",
       "      <th>5</th>\n",
       "      <td>62.0</td>\n",
       "      <td>Software Developer</td>\n",
       "      <td>0.654317</td>\n",
       "      <td>Ziplining</td>\n",
       "      <td>Archery</td>\n",
       "      <td>Astrology</td>\n",
       "      <td>Purple</td>\n",
       "    </tr>\n",
       "    <tr>\n",
       "      <th>6</th>\n",
       "      <td>45.0</td>\n",
       "      <td>accountant</td>\n",
       "      <td>0.802001</td>\n",
       "      <td>Family</td>\n",
       "      <td>Travel</td>\n",
       "      <td>New York</td>\n",
       "      <td>Blue</td>\n",
       "    </tr>\n",
       "    <tr>\n",
       "      <th>7</th>\n",
       "      <td>22.0</td>\n",
       "      <td>Student</td>\n",
       "      <td>0.594586</td>\n",
       "      <td>Museum</td>\n",
       "      <td>Music</td>\n",
       "      <td>History</td>\n",
       "      <td>Red</td>\n",
       "    </tr>\n",
       "    <tr>\n",
       "      <th>8</th>\n",
       "      <td>22.0</td>\n",
       "      <td>Student</td>\n",
       "      <td>0.793715</td>\n",
       "      <td>Museum</td>\n",
       "      <td>Music</td>\n",
       "      <td>History</td>\n",
       "      <td>Red</td>\n",
       "    </tr>\n",
       "    <tr>\n",
       "      <th>9</th>\n",
       "      <td>62.0</td>\n",
       "      <td>retired</td>\n",
       "      <td>0.750847</td>\n",
       "      <td>Architecture</td>\n",
       "      <td>Walking</td>\n",
       "      <td>Travel</td>\n",
       "      <td>Light Blue</td>\n",
       "    </tr>\n",
       "  </tbody>\n",
       "</table>\n",
       "</div>"
      ],
      "text/plain": [
       "    age          Occupation  ActivityScore     interest1 interest2  interest3  \\\n",
       "0  45.0          accountant       0.859248        Family    Travel   New York   \n",
       "1  22.0             Student       0.557470        Museum     Music    History   \n",
       "2  22.0             Student       0.821911        Museum     Music    History   \n",
       "3  22.0             Student       0.709252        Museum     Music    History   \n",
       "4  62.0             retired       0.610038  Architecture   Walking     Travel   \n",
       "5  62.0  Software Developer       0.654317     Ziplining   Archery  Astrology   \n",
       "6  45.0          accountant       0.802001        Family    Travel   New York   \n",
       "7  22.0             Student       0.594586        Museum     Music    History   \n",
       "8  22.0             Student       0.793715        Museum     Music    History   \n",
       "9  62.0             retired       0.750847  Architecture   Walking     Travel   \n",
       "\n",
       "   Background  \n",
       "0        Blue  \n",
       "1         Red  \n",
       "2         Red  \n",
       "3         Red  \n",
       "4  Light Blue  \n",
       "5      Purple  \n",
       "6        Blue  \n",
       "7         Red  \n",
       "8         Red  \n",
       "9  Light Blue  "
      ]
     },
     "execution_count": 17,
     "metadata": {},
     "output_type": "execute_result"
    }
   ],
   "source": [
    "learn_df_background.limit(10).toPandas()"
   ]
  },
  {
   "cell_type": "code",
   "execution_count": 18,
   "metadata": {
    "collapsed": false
   },
   "outputs": [
    {
     "data": {
      "text/html": [
       "<div>\n",
       "<style>\n",
       "    .dataframe thead tr:only-child th {\n",
       "        text-align: right;\n",
       "    }\n",
       "\n",
       "    .dataframe thead th {\n",
       "        text-align: left;\n",
       "    }\n",
       "\n",
       "    .dataframe tbody tr th {\n",
       "        vertical-align: top;\n",
       "    }\n",
       "</style>\n",
       "<table border=\"1\" class=\"dataframe\">\n",
       "  <thead>\n",
       "    <tr style=\"text-align: right;\">\n",
       "      <th></th>\n",
       "      <th>age</th>\n",
       "      <th>Occupation</th>\n",
       "      <th>ActivityScore</th>\n",
       "      <th>interest1</th>\n",
       "      <th>interest2</th>\n",
       "      <th>interest3</th>\n",
       "      <th>Discount</th>\n",
       "    </tr>\n",
       "  </thead>\n",
       "  <tbody>\n",
       "    <tr>\n",
       "      <th>0</th>\n",
       "      <td>45.0</td>\n",
       "      <td>accountant</td>\n",
       "      <td>0.859248</td>\n",
       "      <td>Family</td>\n",
       "      <td>Travel</td>\n",
       "      <td>New York</td>\n",
       "      <td>10% Family Discount</td>\n",
       "    </tr>\n",
       "    <tr>\n",
       "      <th>1</th>\n",
       "      <td>22.0</td>\n",
       "      <td>Student</td>\n",
       "      <td>0.557470</td>\n",
       "      <td>Museum</td>\n",
       "      <td>Music</td>\n",
       "      <td>History</td>\n",
       "      <td>15% Student Discount</td>\n",
       "    </tr>\n",
       "    <tr>\n",
       "      <th>2</th>\n",
       "      <td>22.0</td>\n",
       "      <td>Student</td>\n",
       "      <td>0.821911</td>\n",
       "      <td>Museum</td>\n",
       "      <td>Music</td>\n",
       "      <td>History</td>\n",
       "      <td>15% Student Discount</td>\n",
       "    </tr>\n",
       "    <tr>\n",
       "      <th>3</th>\n",
       "      <td>22.0</td>\n",
       "      <td>Student</td>\n",
       "      <td>0.709252</td>\n",
       "      <td>Museum</td>\n",
       "      <td>Music</td>\n",
       "      <td>History</td>\n",
       "      <td>15% Student Discount</td>\n",
       "    </tr>\n",
       "    <tr>\n",
       "      <th>4</th>\n",
       "      <td>62.0</td>\n",
       "      <td>retired</td>\n",
       "      <td>0.610038</td>\n",
       "      <td>Architecture</td>\n",
       "      <td>Walking</td>\n",
       "      <td>Travel</td>\n",
       "      <td>25% Senior Discount</td>\n",
       "    </tr>\n",
       "    <tr>\n",
       "      <th>5</th>\n",
       "      <td>62.0</td>\n",
       "      <td>Software Developer</td>\n",
       "      <td>0.654317</td>\n",
       "      <td>Ziplining</td>\n",
       "      <td>Archery</td>\n",
       "      <td>Astrology</td>\n",
       "      <td>7% Discount</td>\n",
       "    </tr>\n",
       "    <tr>\n",
       "      <th>6</th>\n",
       "      <td>45.0</td>\n",
       "      <td>accountant</td>\n",
       "      <td>0.802001</td>\n",
       "      <td>Family</td>\n",
       "      <td>Travel</td>\n",
       "      <td>New York</td>\n",
       "      <td>10% Family Discount</td>\n",
       "    </tr>\n",
       "    <tr>\n",
       "      <th>7</th>\n",
       "      <td>22.0</td>\n",
       "      <td>Student</td>\n",
       "      <td>0.594586</td>\n",
       "      <td>Museum</td>\n",
       "      <td>Music</td>\n",
       "      <td>History</td>\n",
       "      <td>15% Student Discount</td>\n",
       "    </tr>\n",
       "    <tr>\n",
       "      <th>8</th>\n",
       "      <td>22.0</td>\n",
       "      <td>Student</td>\n",
       "      <td>0.793715</td>\n",
       "      <td>Museum</td>\n",
       "      <td>Music</td>\n",
       "      <td>History</td>\n",
       "      <td>15% Student Discount</td>\n",
       "    </tr>\n",
       "    <tr>\n",
       "      <th>9</th>\n",
       "      <td>62.0</td>\n",
       "      <td>retired</td>\n",
       "      <td>0.750847</td>\n",
       "      <td>Architecture</td>\n",
       "      <td>Walking</td>\n",
       "      <td>Travel</td>\n",
       "      <td>25% Senior Discount</td>\n",
       "    </tr>\n",
       "  </tbody>\n",
       "</table>\n",
       "</div>"
      ],
      "text/plain": [
       "    age          Occupation  ActivityScore     interest1 interest2  interest3  \\\n",
       "0  45.0          accountant       0.859248        Family    Travel   New York   \n",
       "1  22.0             Student       0.557470        Museum     Music    History   \n",
       "2  22.0             Student       0.821911        Museum     Music    History   \n",
       "3  22.0             Student       0.709252        Museum     Music    History   \n",
       "4  62.0             retired       0.610038  Architecture   Walking     Travel   \n",
       "5  62.0  Software Developer       0.654317     Ziplining   Archery  Astrology   \n",
       "6  45.0          accountant       0.802001        Family    Travel   New York   \n",
       "7  22.0             Student       0.594586        Museum     Music    History   \n",
       "8  22.0             Student       0.793715        Museum     Music    History   \n",
       "9  62.0             retired       0.750847  Architecture   Walking     Travel   \n",
       "\n",
       "               Discount  \n",
       "0   10% Family Discount  \n",
       "1  15% Student Discount  \n",
       "2  15% Student Discount  \n",
       "3  15% Student Discount  \n",
       "4   25% Senior Discount  \n",
       "5           7% Discount  \n",
       "6   10% Family Discount  \n",
       "7  15% Student Discount  \n",
       "8  15% Student Discount  \n",
       "9   25% Senior Discount  "
      ]
     },
     "execution_count": 18,
     "metadata": {},
     "output_type": "execute_result"
    }
   ],
   "source": [
    "learn_df_discount.limit(10).toPandas()"
   ]
  },
  {
   "cell_type": "markdown",
   "metadata": {},
   "source": [
    "<a id=\"build-model\"></a>\n",
    "## 4. Machine Learning Model Creation\n",
    "In the model training process, the original dataset will be split into training dataset and testing dataset."
   ]
  },
  {
   "cell_type": "code",
   "execution_count": 19,
   "metadata": {
    "collapsed": false
   },
   "outputs": [],
   "source": [
    "splitted_data_picture = learn_df_picture.randomSplit([0.8, 0.18, 0.02], 24)\n",
    "train_data_picture = splitted_data_picture[0]\n",
    "test_data_picture = splitted_data_picture[1]\n",
    "predict_data_picture = splitted_data_picture[2]\n",
    "\n",
    "splitted_data_background = learn_df_background.randomSplit([0.8, 0.18, 0.02], 24)\n",
    "train_data_background = splitted_data_background[0]\n",
    "test_data_background = splitted_data_background[1]\n",
    "predict_data_background = splitted_data_background[2]\n",
    "\n",
    "splitted_data_discount = learn_df_discount.randomSplit([0.8, 0.18, 0.02], 24)\n",
    "train_data_discount = splitted_data_discount[0]\n",
    "test_data_discount = splitted_data_discount[1]\n",
    "predict_data_discount = splitted_data_discount[2]"
   ]
  },
  {
   "cell_type": "code",
   "execution_count": 20,
   "metadata": {
    "collapsed": true
   },
   "outputs": [],
   "source": [
    "from pyspark.ml.feature import OneHotEncoder, StringIndexer, IndexToString, VectorAssembler\n",
    "from pyspark.ml.classification import RandomForestClassifier\n",
    "from pyspark.ml.evaluation import MulticlassClassificationEvaluator\n",
    "from pyspark.ml import Pipeline, Model"
   ]
  },
  {
   "cell_type": "markdown",
   "metadata": {},
   "source": [
    "Our machine learning algorithm can't directly work on text fields so we need to do some data transformation. In the code bellow we map each indvidual interest name, background color, or discount to a numeric index"
   ]
  },
  {
   "cell_type": "code",
   "execution_count": 21,
   "metadata": {
    "collapsed": false
   },
   "outputs": [],
   "source": [
    "stringIndexer_background = StringIndexer(inputCol=\"Background\" , outputCol=\"label\").fit(learn_df_background)\n",
    "stringIndexer_occuption  = StringIndexer(inputCol=\"Occupation\" , outputCol=\"Occupation_IX\").fit(learn_df_discount)\n",
    "stringIndexer_interest1  = StringIndexer(inputCol=\"interest1\"  , outputCol=\"interest1_IX\").fit(learn_df_discount)\n",
    "stringIndexer_interest2  = StringIndexer(inputCol=\"interest2\"  , outputCol=\"interest2_IX\").fit(learn_df_discount)\n",
    "stringIndexer_interest3  = StringIndexer(inputCol=\"interest3\"  , outputCol=\"interest3_IX\").fit(learn_df_discount)\n",
    "stringIndexer_discount   = StringIndexer(inputCol=\"Discount\"   , outputCol=\"label\").fit(learn_df_discount)"
   ]
  },
  {
   "cell_type": "markdown",
   "metadata": {},
   "source": [
    "The following task is to setup the input columns for model training, and use the corresponding algorithms to train the model. The vector assembler combines all the machine learning model features"
   ]
  },
  {
   "cell_type": "code",
   "execution_count": 22,
   "metadata": {
    "collapsed": false
   },
   "outputs": [],
   "source": [
    "vectorAssembler_features    = VectorAssembler(inputCols=[\"Occupation_IX\", \"interest1_IX\",\"interest2_IX\", \"interest3_IX\", \"ActivityScore\" ,\"age\" ], outputCol=\"features\")"
   ]
  },
  {
   "cell_type": "markdown",
   "metadata": {},
   "source": [
    "Create a random forest model  to classify the best picture, background and discount"
   ]
  },
  {
   "cell_type": "code",
   "execution_count": 23,
   "metadata": {
    "collapsed": true
   },
   "outputs": [],
   "source": [
    "rf_picture     = RandomForestClassifier(labelCol=\"AddPicture\", featuresCol=\"features\")\n",
    "rf_background  = RandomForestClassifier(labelCol=\"label\", featuresCol=\"features\")\n",
    "rf_discount    = RandomForestClassifier(labelCol=\"label\", featuresCol=\"features\")"
   ]
  },
  {
   "cell_type": "code",
   "execution_count": 24,
   "metadata": {
    "collapsed": false
   },
   "outputs": [],
   "source": [
    "BackgroundConverter = IndexToString(inputCol=\"prediction\", outputCol=\"Background_Predict\", labels=stringIndexer_background.labels)\n",
    "DiscountConverter   = IndexToString(inputCol=\"prediction\", outputCol=\"Discount_Predict\", labels=stringIndexer_discount.labels)"
   ]
  },
  {
   "cell_type": "markdown",
   "metadata": {},
   "source": [
    "Combine all of the machine learning step into a single machine learning pipeline"
   ]
  },
  {
   "cell_type": "code",
   "execution_count": 25,
   "metadata": {
    "collapsed": false
   },
   "outputs": [],
   "source": [
    "pipeline_rf_picture = Pipeline(stages=[stringIndexer_occuption, stringIndexer_interest1, stringIndexer_interest2, stringIndexer_interest3, vectorAssembler_features, rf_picture])\n",
    "pipeline_rf_background = Pipeline(stages=[stringIndexer_occuption, stringIndexer_interest1, stringIndexer_interest2, stringIndexer_interest3, stringIndexer_background ,vectorAssembler_features, rf_background, BackgroundConverter])\n",
    "pipeline_rf_discount = Pipeline(stages=[stringIndexer_occuption, stringIndexer_interest1, stringIndexer_interest2, stringIndexer_interest3, stringIndexer_discount, vectorAssembler_features, rf_discount, DiscountConverter])"
   ]
  },
  {
   "cell_type": "markdown",
   "metadata": {
    "collapsed": false
   },
   "source": [
    "Fit models using our training data"
   ]
  },
  {
   "cell_type": "code",
   "execution_count": 26,
   "metadata": {
    "collapsed": false
   },
   "outputs": [],
   "source": [
    "model_rf_picture = pipeline_rf_picture.fit(train_data_picture)\n",
    "model_rf_background = pipeline_rf_background.fit(train_data_background)\n",
    "model_rf_discount = pipeline_rf_discount.fit(train_data_discount)"
   ]
  },
  {
   "cell_type": "code",
   "execution_count": 27,
   "metadata": {
    "collapsed": false
   },
   "outputs": [
    {
     "name": "stdout",
     "output_type": "stream",
     "text": [
      "Accuracy picture= 0.931707,  Accuracy background = 0.931707,  Accuracy discount = 0.936585 \n",
      "Test Error picture = 0.0682927,  Test Error background = 0.0682927,  Test Error discount = 0.0634146\n"
     ]
    }
   ],
   "source": [
    "predictions_picture     = model_rf_picture.transform(test_data_picture)\n",
    "predictions_background  = model_rf_background.transform(test_data_background)\n",
    "predictions_discount    = model_rf_discount.transform(test_data_discount)\n",
    "\n",
    "evaluatorRF_picture = MulticlassClassificationEvaluator(labelCol=\"AddPicture\", predictionCol=\"prediction\", metricName=\"accuracy\")\n",
    "accuracy_picture = evaluatorRF_picture.evaluate(predictions_picture)\n",
    "\n",
    "evaluatorRF_background = MulticlassClassificationEvaluator(labelCol=\"label\", predictionCol=\"prediction\", metricName=\"accuracy\")\n",
    "accuracy_background = evaluatorRF_background.evaluate(predictions_background)\n",
    "\n",
    "evaluatorRF_discount = MulticlassClassificationEvaluator(labelCol=\"label\", predictionCol=\"prediction\", metricName=\"accuracy\")\n",
    "accuracy_discount   = evaluatorRF_discount.evaluate(predictions_discount)\n",
    "\n",
    "print(\"Accuracy picture= %g\" % accuracy_picture + \",  Accuracy background = %g\" % accuracy_background + \",  Accuracy discount = %g \" % accuracy_discount)\n",
    "print(\"Test Error picture = %g\" % (1.0 - accuracy_picture) + \",  Test Error background = %g\" % (1.0 - accuracy_background) + \",  Test Error discount = %g\" % (1.0 - accuracy_discount)  )"
   ]
  },
  {
   "cell_type": "markdown",
   "metadata": {},
   "source": [
    "<a id=\"save-model\"></a>\n",
    "## 5. Saving and Using Machine Learning Models \n",
    "\n",
    "After the model is successfully trained, repository service is used to save the model. The model name and author information can be customized."
   ]
  },
  {
   "cell_type": "code",
   "execution_count": 28,
   "metadata": {
    "collapsed": true
   },
   "outputs": [],
   "source": [
    "from repository.mlrepositoryclient import MLRepositoryClient\n",
    "from repository.mlrepositoryartifact import MLRepositoryArtifact\n",
    "from repository.mlrepository import MetaProps, MetaNames\n",
    "import json"
   ]
  },
  {
   "cell_type": "code",
   "execution_count": 29,
   "metadata": {
    "collapsed": false
   },
   "outputs": [
    {
     "name": "stdout",
     "output_type": "stream",
     "text": [
      "{'http': <urllib3.poolmanager.PoolManager object at 0x7fc9577d3750>, 'rest_client': <repository.swagger_client.rest.RESTClientObject object at 0x7fc9577d3650>, 'repository_path': 'https://internal-nginx-svc.ibm-private-cloud.svc.cluster.local:12443', 'host': 'https://internal-nginx-svc.ibm-private-cloud.svc.cluster.local:12443', 'cookie': None, 'default_headers': {'User-Agent': 'Swagger-Codegen/1.0.0/python'}}\n"
     ]
    }
   ],
   "source": [
    "ml_repository_client = MLRepositoryClient()\n",
    "print vars(ml_repository_client.api_client)\n",
    "\n",
    "meta_propsx=MetaProps({\n",
    "    MetaNames.EVALUATION_METHOD: \"multiclass\",\n",
    "    MetaNames.EVALUATION_METRICS: json.dumps([{\n",
    "        \"name\": \"accuracy\",\n",
    "        \"value\": 0.9,\n",
    "        \"threshold\": 0.8\n",
    "    }])\n",
    "})\n",
    "meta_propsy=MetaProps({\n",
    "    MetaNames.EVALUATION_METHOD: \"multiclass\",\n",
    "    MetaNames.EVALUATION_METRICS: json.dumps([{\n",
    "        \"name\": \"accuracy\",\n",
    "        \"value\": 0.9,\n",
    "        \"threshold\": 0.8\n",
    "    }])\n",
    "})\n",
    "meta_propsz=MetaProps({\n",
    "    MetaNames.EVALUATION_METHOD: \"multiclass\",\n",
    "    MetaNames.EVALUATION_METRICS: json.dumps([{\n",
    "        \"name\": \"accuracy\",\n",
    "        \"value\": 0.9,\n",
    "        \"threshold\": 0.8\n",
    "    }])\n",
    "})"
   ]
  },
  {
   "cell_type": "code",
   "execution_count": 30,
   "metadata": {
    "collapsed": false
   },
   "outputs": [],
   "source": [
    "model_base_name        = \"ES Model \"\n",
    "model_name_picture     = model_base_name + \"AddPicture\"\n",
    "model_name_background  = model_base_name + \"Background\"\n",
    "model_name_discount    = model_base_name + \"Discount\"\n",
    "\n",
    "model_artifact_background = MLRepositoryArtifact(model_rf_background, training_data=train_data_background, name=model_name_background,  meta_props=meta_propsy)\n",
    "model_artifact_picture = MLRepositoryArtifact(model_rf_picture, training_data=train_data_picture, name=model_name_picture, meta_props=meta_propsx)\n",
    "model_artifact_discount = MLRepositoryArtifact(model_rf_discount, training_data=train_data_discount, name=model_name_discount,  meta_props=meta_propsz)"
   ]
  },
  {
   "cell_type": "code",
   "execution_count": 31,
   "metadata": {
    "collapsed": false
   },
   "outputs": [
    {
     "data": {
      "text/plain": [
       "['inputDataSchema',\n",
       " 'evaluationMetrics',\n",
       " 'pipelineVersionHref',\n",
       " 'modelVersionHref',\n",
       " 'trainingDataRef',\n",
       " 'pipelineType',\n",
       " 'creationTime',\n",
       " 'lastUpdated',\n",
       " 'label',\n",
       " 'authorEmail',\n",
       " 'trainingDataSchema',\n",
       " 'authorName',\n",
       " 'version',\n",
       " 'modelType',\n",
       " 'runtime',\n",
       " 'evaluationMethod']"
      ]
     },
     "execution_count": 31,
     "metadata": {},
     "output_type": "execute_result"
    }
   ],
   "source": [
    "saved_model_picture = ml_repository_client.models.save(model_artifact_picture)\n",
    "saved_model_picture.meta.available_props()\n",
    "saved_model_background = ml_repository_client.models.save(model_artifact_background)\n",
    "saved_model_background.meta.available_props()\n",
    "saved_model_discount = ml_repository_client.models.save(model_artifact_discount)\n",
    "saved_model_discount.meta.available_props()"
   ]
  },
  {
   "cell_type": "code",
   "execution_count": 32,
   "metadata": {
    "collapsed": false
   },
   "outputs": [
    {
     "name": "stdout",
     "output_type": "stream",
     "text": [
      "modelType: sparkml-model-2.0\n",
      "trainingDataSchema: {u'fields': [{u'nullable': False, u'type': u'double', u'name': u'age', u'metadata': {}}, {u'nullable': False, u'type': u'string', u'name': u'Occupation', u'metadata': {u'scale': 0, u'name': u'OCCUPATION'}}, {u'nullable': False, u'type': u'double', u'name': u'ActivityScore', u'metadata': {u'scale': 0, u'name': u'ACTIVITYSCORE'}}, {u'nullable': False, u'type': u'string', u'name': u'interest1', u'metadata': {u'scale': 0, u'name': u'INTEREST1'}}, {u'nullable': False, u'type': u'string', u'name': u'interest2', u'metadata': {u'scale': 0, u'name': u'INTEREST2'}}, {u'nullable': False, u'type': u'string', u'name': u'interest3', u'metadata': {u'scale': 0, u'name': u'INTEREST3'}}, {u'nullable': False, u'type': u'double', u'name': u'AddPicture', u'metadata': {}}], u'type': u'struct'}\n",
      "creationTime: 2018-03-08 22:08:20.205000+00:00\n",
      "modelVersionHref: https://internal-nginx-svc.ibm-private-cloud.svc.cluster.local:12443/v2/artifacts/models/cea22606-fbcd-490c-9f54-f4dc4639d62c/versions/d7217ba7-7602-4fd9-8332-4844c8efe26c\n",
      "label: AddPicture\n",
      "modelType: sparkml-model-2.0\n",
      "trainingDataSchema: {u'fields': [{u'nullable': False, u'type': u'double', u'name': u'age', u'metadata': {}}, {u'nullable': False, u'type': u'string', u'name': u'Occupation', u'metadata': {u'scale': 0, u'name': u'OCCUPATION'}}, {u'nullable': False, u'type': u'double', u'name': u'ActivityScore', u'metadata': {u'scale': 0, u'name': u'ACTIVITYSCORE'}}, {u'nullable': False, u'type': u'string', u'name': u'interest1', u'metadata': {u'scale': 0, u'name': u'INTEREST1'}}, {u'nullable': False, u'type': u'string', u'name': u'interest2', u'metadata': {u'scale': 0, u'name': u'INTEREST2'}}, {u'nullable': False, u'type': u'string', u'name': u'interest3', u'metadata': {u'scale': 0, u'name': u'INTEREST3'}}, {u'nullable': False, u'type': u'string', u'name': u'Background', u'metadata': {u'scale': 0, u'name': u'BACKGROUND'}}], u'type': u'struct'}\n",
      "creationTime: 2018-03-08 22:08:34.017000+00:00\n",
      "modelVersionHref: https://internal-nginx-svc.ibm-private-cloud.svc.cluster.local:12443/v2/artifacts/models/56981acb-f085-49e0-8842-0bc6079bd1ae/versions/4a05e1b5-b648-4cb5-9b16-b94daad45b35\n",
      "label: Background\n",
      "modelType: sparkml-model-2.0\n",
      "trainingDataSchema: {u'fields': [{u'nullable': False, u'type': u'double', u'name': u'age', u'metadata': {}}, {u'nullable': False, u'type': u'string', u'name': u'Occupation', u'metadata': {u'scale': 0, u'name': u'OCCUPATION'}}, {u'nullable': False, u'type': u'double', u'name': u'ActivityScore', u'metadata': {u'scale': 0, u'name': u'ACTIVITYSCORE'}}, {u'nullable': False, u'type': u'string', u'name': u'interest1', u'metadata': {u'scale': 0, u'name': u'INTEREST1'}}, {u'nullable': False, u'type': u'string', u'name': u'interest2', u'metadata': {u'scale': 0, u'name': u'INTEREST2'}}, {u'nullable': False, u'type': u'string', u'name': u'interest3', u'metadata': {u'scale': 0, u'name': u'INTEREST3'}}, {u'nullable': False, u'type': u'string', u'name': u'Discount', u'metadata': {u'scale': 0, u'name': u'DISCOUNT'}}], u'type': u'struct'}\n",
      "creationTime: 2018-03-08 22:08:48.603000+00:00\n",
      "modelVersionHref: https://internal-nginx-svc.ibm-private-cloud.svc.cluster.local:12443/v2/artifacts/models/76524005-2c34-4ec4-b04c-4110f63a6a2e/versions/d4218916-93a1-4d5e-aa3d-0009a4a16252\n",
      "label: Discount\n"
     ]
    }
   ],
   "source": [
    "for saved_model in [ saved_model_picture, saved_model_background, saved_model_discount ]: \n",
    "    print \"modelType: \" + saved_model.meta.prop(\"modelType\")  \n",
    "    print \"trainingDataSchema: \" + str(saved_model.meta.prop(\"trainingDataSchema\"))\n",
    "    print \"creationTime: \" + str(saved_model.meta.prop(\"creationTime\"))\n",
    "    print \"modelVersionHref: \" + saved_model.meta.prop(\"modelVersionHref\")\n",
    "    print \"label: \" + saved_model.meta.prop(\"label\")"
   ]
  },
  {
   "cell_type": "code",
   "execution_count": 33,
   "metadata": {
    "collapsed": false
   },
   "outputs": [
    {
     "name": "stdout",
     "output_type": "stream",
     "text": [
      "ES Model AddPicture\n",
      "ES Model Background\n",
      "ES Model Discount\n"
     ]
    }
   ],
   "source": [
    "loadedModelArtifactPicture = ml_repository_client.models.get(saved_model_picture.uid)\n",
    "loadedModelArtifactBackground = ml_repository_client.models.get(saved_model_background.uid)\n",
    "loadedModelArtifactDiscount = ml_repository_client.models.get(saved_model_discount.uid)\n",
    "print str(loadedModelArtifactPicture.name)\n",
    "print str(loadedModelArtifactBackground.name)\n",
    "print str(loadedModelArtifactDiscount.name)"
   ]
  },
  {
   "cell_type": "code",
   "execution_count": 34,
   "metadata": {
    "collapsed": false
   },
   "outputs": [],
   "source": [
    "predictionsPicture = loadedModelArtifactPicture.model_instance().transform(predict_data_picture).limit(10)\n",
    "predictionsBackground = loadedModelArtifactBackground.model_instance().transform(predict_data_background)\n",
    "predictionsDiscount = loadedModelArtifactDiscount.model_instance().transform(predict_data_discount)"
   ]
  },
  {
   "cell_type": "code",
   "execution_count": 35,
   "metadata": {
    "collapsed": false
   },
   "outputs": [
    {
     "data": {
      "text/html": [
       "<div>\n",
       "<style>\n",
       "    .dataframe thead tr:only-child th {\n",
       "        text-align: right;\n",
       "    }\n",
       "\n",
       "    .dataframe thead th {\n",
       "        text-align: left;\n",
       "    }\n",
       "\n",
       "    .dataframe tbody tr th {\n",
       "        vertical-align: top;\n",
       "    }\n",
       "</style>\n",
       "<table border=\"1\" class=\"dataframe\">\n",
       "  <thead>\n",
       "    <tr style=\"text-align: right;\">\n",
       "      <th></th>\n",
       "      <th>age</th>\n",
       "      <th>Occupation</th>\n",
       "      <th>ActivityScore</th>\n",
       "      <th>interest1</th>\n",
       "      <th>interest2</th>\n",
       "      <th>interest3</th>\n",
       "      <th>Discount</th>\n",
       "      <th>Occupation_IX</th>\n",
       "      <th>interest1_IX</th>\n",
       "      <th>interest2_IX</th>\n",
       "      <th>interest3_IX</th>\n",
       "      <th>label</th>\n",
       "      <th>features</th>\n",
       "      <th>rawPrediction</th>\n",
       "      <th>probability</th>\n",
       "      <th>prediction</th>\n",
       "      <th>Discount_Predict</th>\n",
       "    </tr>\n",
       "  </thead>\n",
       "  <tbody>\n",
       "    <tr>\n",
       "      <th>0</th>\n",
       "      <td>62.0</td>\n",
       "      <td>retired</td>\n",
       "      <td>0.584105</td>\n",
       "      <td>Architecture</td>\n",
       "      <td>Walking</td>\n",
       "      <td>Travel</td>\n",
       "      <td>25% Senior Discount</td>\n",
       "      <td>2.0</td>\n",
       "      <td>0.0</td>\n",
       "      <td>0.0</td>\n",
       "      <td>2.0</td>\n",
       "      <td>1.0</td>\n",
       "      <td>[2.0, 0.0, 0.0, 2.0, 0.584104981792, 62.0]</td>\n",
       "      <td>[0.0, 20.0, 0.0, 0.0, 0.0]</td>\n",
       "      <td>[0.0, 1.0, 0.0, 0.0, 0.0]</td>\n",
       "      <td>1.0</td>\n",
       "      <td>25% Senior Discount</td>\n",
       "    </tr>\n",
       "    <tr>\n",
       "      <th>1</th>\n",
       "      <td>62.0</td>\n",
       "      <td>retired</td>\n",
       "      <td>0.830621</td>\n",
       "      <td>Architecture</td>\n",
       "      <td>Walking</td>\n",
       "      <td>Travel</td>\n",
       "      <td>25% Senior Discount</td>\n",
       "      <td>2.0</td>\n",
       "      <td>0.0</td>\n",
       "      <td>0.0</td>\n",
       "      <td>2.0</td>\n",
       "      <td>1.0</td>\n",
       "      <td>[2.0, 0.0, 0.0, 2.0, 0.830620648004, 62.0]</td>\n",
       "      <td>[0.0, 20.0, 0.0, 0.0, 0.0]</td>\n",
       "      <td>[0.0, 1.0, 0.0, 0.0, 0.0]</td>\n",
       "      <td>1.0</td>\n",
       "      <td>25% Senior Discount</td>\n",
       "    </tr>\n",
       "    <tr>\n",
       "      <th>2</th>\n",
       "      <td>62.0</td>\n",
       "      <td>Engineer</td>\n",
       "      <td>0.516463</td>\n",
       "      <td>Amateur Radio</td>\n",
       "      <td>Bird watching</td>\n",
       "      <td>World Record Breaking</td>\n",
       "      <td>25% Senior Discount</td>\n",
       "      <td>3.0</td>\n",
       "      <td>6.0</td>\n",
       "      <td>10.0</td>\n",
       "      <td>14.0</td>\n",
       "      <td>1.0</td>\n",
       "      <td>[3.0, 6.0, 10.0, 14.0, 0.516463207364, 62.0]</td>\n",
       "      <td>[4.52917311288, 6.75689607569, 0.0, 4.12865846...</td>\n",
       "      <td>[0.226458655644, 0.337844803784, 0.0, 0.206432...</td>\n",
       "      <td>1.0</td>\n",
       "      <td>25% Senior Discount</td>\n",
       "    </tr>\n",
       "    <tr>\n",
       "      <th>3</th>\n",
       "      <td>22.0</td>\n",
       "      <td>Student</td>\n",
       "      <td>0.854951</td>\n",
       "      <td>Museum</td>\n",
       "      <td>Music</td>\n",
       "      <td>History</td>\n",
       "      <td>15% Student Discount</td>\n",
       "      <td>0.0</td>\n",
       "      <td>1.0</td>\n",
       "      <td>1.0</td>\n",
       "      <td>0.0</td>\n",
       "      <td>2.0</td>\n",
       "      <td>[0.0, 1.0, 1.0, 0.0, 0.854950640107, 22.0]</td>\n",
       "      <td>[0.0, 0.0, 20.0, 0.0, 0.0]</td>\n",
       "      <td>[0.0, 0.0, 1.0, 0.0, 0.0]</td>\n",
       "      <td>2.0</td>\n",
       "      <td>15% Student Discount</td>\n",
       "    </tr>\n",
       "    <tr>\n",
       "      <th>4</th>\n",
       "      <td>22.0</td>\n",
       "      <td>Student</td>\n",
       "      <td>0.798948</td>\n",
       "      <td>Museum</td>\n",
       "      <td>Music</td>\n",
       "      <td>History</td>\n",
       "      <td>15% Student Discount</td>\n",
       "      <td>0.0</td>\n",
       "      <td>1.0</td>\n",
       "      <td>1.0</td>\n",
       "      <td>0.0</td>\n",
       "      <td>2.0</td>\n",
       "      <td>[0.0, 1.0, 1.0, 0.0, 0.798947675748, 22.0]</td>\n",
       "      <td>[0.0, 0.0, 20.0, 0.0, 0.0]</td>\n",
       "      <td>[0.0, 0.0, 1.0, 0.0, 0.0]</td>\n",
       "      <td>2.0</td>\n",
       "      <td>15% Student Discount</td>\n",
       "    </tr>\n",
       "  </tbody>\n",
       "</table>\n",
       "</div>"
      ],
      "text/plain": [
       "    age Occupation  ActivityScore      interest1      interest2  \\\n",
       "0  62.0    retired       0.584105   Architecture        Walking   \n",
       "1  62.0    retired       0.830621   Architecture        Walking   \n",
       "2  62.0   Engineer       0.516463  Amateur Radio  Bird watching   \n",
       "3  22.0    Student       0.854951         Museum          Music   \n",
       "4  22.0    Student       0.798948         Museum          Music   \n",
       "\n",
       "               interest3              Discount  Occupation_IX  interest1_IX  \\\n",
       "0                 Travel   25% Senior Discount            2.0           0.0   \n",
       "1                 Travel   25% Senior Discount            2.0           0.0   \n",
       "2  World Record Breaking   25% Senior Discount            3.0           6.0   \n",
       "3                History  15% Student Discount            0.0           1.0   \n",
       "4                History  15% Student Discount            0.0           1.0   \n",
       "\n",
       "   interest2_IX  interest3_IX  label  \\\n",
       "0           0.0           2.0    1.0   \n",
       "1           0.0           2.0    1.0   \n",
       "2          10.0          14.0    1.0   \n",
       "3           1.0           0.0    2.0   \n",
       "4           1.0           0.0    2.0   \n",
       "\n",
       "                                       features  \\\n",
       "0    [2.0, 0.0, 0.0, 2.0, 0.584104981792, 62.0]   \n",
       "1    [2.0, 0.0, 0.0, 2.0, 0.830620648004, 62.0]   \n",
       "2  [3.0, 6.0, 10.0, 14.0, 0.516463207364, 62.0]   \n",
       "3    [0.0, 1.0, 1.0, 0.0, 0.854950640107, 22.0]   \n",
       "4    [0.0, 1.0, 1.0, 0.0, 0.798947675748, 22.0]   \n",
       "\n",
       "                                       rawPrediction  \\\n",
       "0                         [0.0, 20.0, 0.0, 0.0, 0.0]   \n",
       "1                         [0.0, 20.0, 0.0, 0.0, 0.0]   \n",
       "2  [4.52917311288, 6.75689607569, 0.0, 4.12865846...   \n",
       "3                         [0.0, 0.0, 20.0, 0.0, 0.0]   \n",
       "4                         [0.0, 0.0, 20.0, 0.0, 0.0]   \n",
       "\n",
       "                                         probability  prediction  \\\n",
       "0                          [0.0, 1.0, 0.0, 0.0, 0.0]         1.0   \n",
       "1                          [0.0, 1.0, 0.0, 0.0, 0.0]         1.0   \n",
       "2  [0.226458655644, 0.337844803784, 0.0, 0.206432...         1.0   \n",
       "3                          [0.0, 0.0, 1.0, 0.0, 0.0]         2.0   \n",
       "4                          [0.0, 0.0, 1.0, 0.0, 0.0]         2.0   \n",
       "\n",
       "       Discount_Predict  \n",
       "0   25% Senior Discount  \n",
       "1   25% Senior Discount  \n",
       "2   25% Senior Discount  \n",
       "3  15% Student Discount  \n",
       "4  15% Student Discount  "
      ]
     },
     "execution_count": 35,
     "metadata": {},
     "output_type": "execute_result"
    }
   ],
   "source": [
    "predictionsDiscount.limit(5).toPandas()"
   ]
  },
  {
   "cell_type": "code",
   "execution_count": 36,
   "metadata": {
    "collapsed": false
   },
   "outputs": [
    {
     "data": {
      "text/html": [
       "<script>requirejs.config({paths: { 'plotly': ['https://cdn.plot.ly/plotly-latest.min']},});if(!window.Plotly) {{require(['plotly'],function(plotly) {window.Plotly=plotly;});}}</script>"
      ],
      "text/vnd.plotly.v1+html": [
       "<script>requirejs.config({paths: { 'plotly': ['https://cdn.plot.ly/plotly-latest.min']},});if(!window.Plotly) {{require(['plotly'],function(plotly) {window.Plotly=plotly;});}}</script>"
      ]
     },
     "metadata": {},
     "output_type": "display_data"
    }
   ],
   "source": [
    "import sys\n",
    "import os\n",
    "import pandas\n",
    "import plotly.plotly as py\n",
    "from plotly.offline import download_plotlyjs, init_notebook_mode, plot, iplot\n",
    "import cufflinks as cf\n",
    "import plotly.graph_objs as go\n",
    "import plotly.figure_factory as ff\n",
    "import brunel\n",
    "init_notebook_mode(connected=True)\n",
    "sys.path.append(\"\".join([os.environ[\"HOME\"]])) "
   ]
  },
  {
   "cell_type": "code",
   "execution_count": 37,
   "metadata": {
    "collapsed": false
   },
   "outputs": [
    {
     "data": {
      "application/vnd.plotly.v1+json": {
       "data": [
        {
         "labels": [
          "10% Family Discount",
          "5% Email Registration Discount",
          "15% Student Discount",
          "25% Senior Discount"
         ],
         "type": "pie",
         "values": [
          6,
          1,
          6,
          9
         ]
        }
       ],
       "layout": {
        "title": "Discount Distribution"
       }
      },
      "text/html": [
       "<div id=\"c3258e80-43e1-4512-9aac-d9a26577a894\" style=\"height: 525px; width: 100%;\" class=\"plotly-graph-div\"></div><script type=\"text/javascript\">require([\"plotly\"], function(Plotly) { window.PLOTLYENV=window.PLOTLYENV || {};window.PLOTLYENV.BASE_URL=\"https://plot.ly\";Plotly.newPlot(\"c3258e80-43e1-4512-9aac-d9a26577a894\", [{\"type\": \"pie\", \"labels\": [\"10% Family Discount\", \"5% Email Registration Discount\", \"15% Student Discount\", \"25% Senior Discount\"], \"values\": [6, 1, 6, 9]}], {\"title\": \"Discount Distribution\"}, {\"linkText\": \"Export to plot.ly\", \"showLink\": true})});</script>"
      ],
      "text/vnd.plotly.v1+html": [
       "<div id=\"c3258e80-43e1-4512-9aac-d9a26577a894\" style=\"height: 525px; width: 100%;\" class=\"plotly-graph-div\"></div><script type=\"text/javascript\">require([\"plotly\"], function(Plotly) { window.PLOTLYENV=window.PLOTLYENV || {};window.PLOTLYENV.BASE_URL=\"https://plot.ly\";Plotly.newPlot(\"c3258e80-43e1-4512-9aac-d9a26577a894\", [{\"type\": \"pie\", \"labels\": [\"10% Family Discount\", \"5% Email Registration Discount\", \"15% Student Discount\", \"25% Senior Discount\"], \"values\": [6, 1, 6, 9]}], {\"title\": \"Discount Distribution\"}, {\"linkText\": \"Export to plot.ly\", \"showLink\": true})});</script>"
      ]
     },
     "metadata": {},
     "output_type": "display_data"
    }
   ],
   "source": [
    "cumulative_stats = predictionsDiscount.groupby(['Discount_Predict']).count()\n",
    "product_data = [go.Pie(\n",
    "            labels=cumulative_stats.toPandas()['Discount_Predict'].tolist(),\n",
    "            values=cumulative_stats.toPandas()['count'].tolist(),\n",
    "    )]\n",
    "\n",
    "product_layout = go.Layout(\n",
    "    title='Discount Distribution',\n",
    ")\n",
    "\n",
    "fig = go.Figure(data=product_data, layout=product_layout)\n",
    "iplot(fig)"
   ]
  },
  {
   "cell_type": "markdown",
   "metadata": {},
   "source": [
    "<a id=\"deploy-model\"></a>\n",
    "## 6. Deploy Models\n",
    "\n",
    "Saved model can then be deploy using deployment service and provide an endpoint that data scientist can utilize. The deployment name can also be customized."
   ]
  },
  {
   "cell_type": "code",
   "execution_count": 38,
   "metadata": {
    "collapsed": true
   },
   "outputs": [],
   "source": [
    "import urllib3, requests, json"
   ]
  },
  {
   "cell_type": "code",
   "execution_count": 39,
   "metadata": {
    "collapsed": false
   },
   "outputs": [
    {
     "name": "stdout",
     "output_type": "stream",
     "text": [
      "ES Model AddPicture\n",
      "https://internal-nginx-svc.ibm-private-cloud.svc.cluster.local:12443/v2/artifacts/models/cea22606-fbcd-490c-9f54-f4dc4639d62c/versions/d7217ba7-7602-4fd9-8332-4844c8efe26c\n",
      "ES Model Background\n",
      "https://internal-nginx-svc.ibm-private-cloud.svc.cluster.local:12443/v2/artifacts/models/56981acb-f085-49e0-8842-0bc6079bd1ae/versions/4a05e1b5-b648-4cb5-9b16-b94daad45b35\n",
      "ES Model Discount\n",
      "https://internal-nginx-svc.ibm-private-cloud.svc.cluster.local:12443/v2/artifacts/models/76524005-2c34-4ec4-b04c-4110f63a6a2e/versions/d4218916-93a1-4d5e-aa3d-0009a4a16252\n"
     ]
    }
   ],
   "source": [
    "response_online = []\n",
    "for saved_model in [ saved_model_picture, saved_model_background, saved_model_discount ]: \n",
    "    model_name = model_base_name +  saved_model.meta.prop(\"label\")\n",
    "    print model_name\n",
    "    print saved_model.meta.prop(\"modelVersionHref\")\n",
    "    header_online = {'Content-Type': 'application/json'}\n",
    "    payload_online = {\"artifactVersionHref\": saved_model.meta.prop(\"modelVersionHref\"), \"name\": model_name}\n",
    "    service_path = 'https://internal-nginx-svc.ibm-private-cloud.svc.cluster.local:12443'\n",
    "    online_path = service_path + \"/v2/deployments\"\n",
    "    response_online.append(requests.post(online_path, json=payload_online))\n",
    "\n"
   ]
  },
  {
   "cell_type": "markdown",
   "metadata": {},
   "source": [
    "<a id=\"make-prediction\"></a>\n",
    "## 7. Make a prediction\n",
    "\n",
    "After deployment, the endpoint of model can be used to give prediction for new data using the online scoring service."
   ]
  },
  {
   "cell_type": "code",
   "execution_count": 51,
   "metadata": {
    "collapsed": false,
    "scrolled": true
   },
   "outputs": [
    {
     "name": "stdout",
     "output_type": "stream",
     "text": [
      "https://internal-nginx-svc.ibm-private-cloud.svc.cluster.local:12443/v2/scoring/online/57c0d624-df38-4eda-ac5d-70dc90a7ca31\n"
     ]
    }
   ],
   "source": [
    "scoring_href = json.loads(response_online[2].text).get('entity').get('predictionEndpoints').get('online')\n",
    "print scoring_href"
   ]
  },
  {
   "cell_type": "code",
   "execution_count": 52,
   "metadata": {
    "collapsed": false
   },
   "outputs": [
    {
     "name": "stdout",
     "output_type": "stream",
     "text": [
      "{\n",
      "  \"fields\": [\"age\", \"ActivityScore\", \"Occupation\", \"interest1\", \"interest2\", \"interest3\", \"Occupation_IX\", \"interest1_IX\", \"interest2_IX\", \"interest3_IX\", \"features\", \"rawPrediction\", \"probability\", \"prediction\", \"Discount_Predict\"],\n",
      "  \"records\": [[65.0, 79.0, \"retired\", \"Museum\", \"Walking\", \"Travel\", 2.0, 1.0, 0.0, 2.0, [2.0, 1.0, 0.0, 2.0, 79.0, 65.0], [2.5914521395303742, 13.505339795543316, 0.0, 2.212833180161231, 1.690374884765077], [0.12957260697651873, 0.6752669897771659, 0.0, 0.11064165900806157, 0.08451874423825387], 1.0, \"25% Senior Discount\"]]\n",
      "}\n"
     ]
    }
   ],
   "source": [
    "payload_scoring = {\"fields\": [\"age\", \"ActivityScore\", \"Occupation\", \"interest1\", \"interest2\", \"interest3\"], \"records\":[[65.0, 79.0, \"retired\", \"Museum\", \"Walking\", \"Travel\"]]}\n",
    "response_scoring = requests.post(scoring_href, json=payload_scoring, headers=header_online)\n",
    "\n",
    "print response_scoring.text"
   ]
  },
  {
   "cell_type": "markdown",
   "metadata": {},
   "source": [
    "<a id=\"summary\"></a>\n",
    "## Summary\n",
    "This demo introduced you to the IBM HDM platform integrated with machine learning model creation"
   ]
  },
  {
   "cell_type": "markdown",
   "metadata": {},
   "source": [
    "<hr>\n",
    "Copyright &copy; IBM Corp. 2017. Released as licensed Sample Materials."
   ]
  },
  {
   "cell_type": "code",
   "execution_count": null,
   "metadata": {
    "collapsed": true
   },
   "outputs": [],
   "source": []
  },
  {
   "cell_type": "code",
   "execution_count": null,
   "metadata": {
    "collapsed": true
   },
   "outputs": [],
   "source": []
  },
  {
   "cell_type": "code",
   "execution_count": null,
   "metadata": {
    "collapsed": true
   },
   "outputs": [],
   "source": []
  },
  {
   "cell_type": "code",
   "execution_count": null,
   "metadata": {
    "collapsed": true
   },
   "outputs": [],
   "source": []
  },
  {
   "cell_type": "code",
   "execution_count": null,
   "metadata": {
    "collapsed": true
   },
   "outputs": [],
   "source": []
  },
  {
   "cell_type": "code",
   "execution_count": null,
   "metadata": {
    "collapsed": true
   },
   "outputs": [],
   "source": []
  },
  {
   "cell_type": "code",
   "execution_count": null,
   "metadata": {
    "collapsed": true
   },
   "outputs": [],
   "source": []
  }
 ],
 "metadata": {
  "kernelspec": {
   "display_name": "Python2 with DSX Spark",
   "language": "python",
   "name": "python2"
  },
  "language_info": {
   "codemirror_mode": {
    "name": "ipython",
    "version": 2
   },
   "file_extension": ".py",
   "mimetype": "text/x-python",
   "name": "python",
   "nbconvert_exporter": "python",
   "pygments_lexer": "ipython2",
   "version": "2.7.13"
  }
 },
 "nbformat": 4,
 "nbformat_minor": 0
}
